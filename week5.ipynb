{
 "cells": [
  {
   "cell_type": "markdown",
   "metadata": {
    "collapsed": true
   },
   "source": [
    "#### 1. Geographic coordinate of Hong Kong cinemas\n",
    "\n",
    "I need to **compare 5 possible locations with current cinemas** in Hong Kong. Therefore, I need to find a list of Hong Kong cinema and cinemas' geographic coordinates. Luckily, I can find the list and coordinates from the website https://hkmovie6.com/cinema ."
   ]
  },
  {
   "cell_type": "code",
   "execution_count": 1,
   "metadata": {},
   "outputs": [],
   "source": [
    "import json\n",
    "import pandas as pd"
   ]
  },
  {
   "cell_type": "code",
   "execution_count": 2,
   "metadata": {},
   "outputs": [
    {
     "name": "stdout",
     "output_type": "stream",
     "text": [
      "--2019-08-01 15:20:37--  https://hkmovie6.com/api/cinemas/lists\n",
      "Resolving hkmovie6.com (hkmovie6.com)... 104.31.67.1, 104.31.66.1, 2606:4700:30::681f:4301, ...\n",
      "Connecting to hkmovie6.com (hkmovie6.com)|104.31.67.1|:443... connected.\n",
      "HTTP request sent, awaiting response... 200 OK\n",
      "Length: unspecified [application/json]\n",
      "Saving to: ‘hk_cinema_list.json’\n",
      "\n",
      "    [ <=>                                   ] 56,711       360KB/s   in 0.2s   \n",
      "\n",
      "2019-08-01 15:20:38 (360 KB/s) - ‘hk_cinema_list.json’ saved [56711]\n",
      "\n"
     ]
    }
   ],
   "source": [
    "!wget -O hk_cinema_list.json https://hkmovie6.com/api/cinemas/lists"
   ]
  },
  {
   "cell_type": "code",
   "execution_count": 3,
   "metadata": {},
   "outputs": [],
   "source": [
    "cinemas_json = None\n",
    "with open('hk_cinema_list.json', 'r', encoding='utf-8') as f:\n",
    "    cinemas_json = json.load(f)\n",
    "    \n",
    "cinemas = []\n",
    "for data in cinemas_json['data']:    \n",
    "    cinemas.append({\n",
    "        'Name': data['name'],\n",
    "        'ChiName': data['chiName'],\n",
    "        'Address': data['address'],\n",
    "        'Latitude': data['lat'],\n",
    "        'Longitude': data['lon']\n",
    "    })\n",
    "df_cinemas = pd.DataFrame(cinemas, columns=['Name','ChiName','Address','Latitude','Longitude'])"
   ]
  },
  {
   "cell_type": "code",
   "execution_count": 4,
   "metadata": {},
   "outputs": [
    {
     "name": "stdout",
     "output_type": "stream",
     "text": [
      "There are 71 cinemas in Hong Kong\n"
     ]
    }
   ],
   "source": [
    "print('There are {} cinemas in Hong Kong'.format(len(df_cinemas)))"
   ]
  },
  {
   "cell_type": "code",
   "execution_count": 5,
   "metadata": {},
   "outputs": [
    {
     "data": {
      "text/html": [
       "<div>\n",
       "<style scoped>\n",
       "    .dataframe tbody tr th:only-of-type {\n",
       "        vertical-align: middle;\n",
       "    }\n",
       "\n",
       "    .dataframe tbody tr th {\n",
       "        vertical-align: top;\n",
       "    }\n",
       "\n",
       "    .dataframe thead th {\n",
       "        text-align: right;\n",
       "    }\n",
       "</style>\n",
       "<table border=\"1\" class=\"dataframe\">\n",
       "  <thead>\n",
       "    <tr style=\"text-align: right;\">\n",
       "      <th></th>\n",
       "      <th>Name</th>\n",
       "      <th>ChiName</th>\n",
       "      <th>Address</th>\n",
       "      <th>Latitude</th>\n",
       "      <th>Longitude</th>\n",
       "    </tr>\n",
       "  </thead>\n",
       "  <tbody>\n",
       "    <tr>\n",
       "      <th>0</th>\n",
       "      <td>Emperor Cinemas - Entertainment Building</td>\n",
       "      <td>英皇戲院 - 娛樂行</td>\n",
       "      <td>3/F, Emperor Cinemas Entertainment Building, 3...</td>\n",
       "      <td>22.281453</td>\n",
       "      <td>114.154230</td>\n",
       "    </tr>\n",
       "    <tr>\n",
       "      <th>1</th>\n",
       "      <td>Emperor Cinemas - Ma On Shan</td>\n",
       "      <td>英皇戲院 - 馬鞍山新港城中心</td>\n",
       "      <td>L2, MOSTown, Sai Sha Road, Ma On Shan, N.T.</td>\n",
       "      <td>22.424120</td>\n",
       "      <td>114.230957</td>\n",
       "    </tr>\n",
       "    <tr>\n",
       "      <th>2</th>\n",
       "      <td>Emperor Cinemas - Tuen Mun</td>\n",
       "      <td>英皇戲院 - 屯門新都商場</td>\n",
       "      <td>3/F, New Town Commercial Arcade, 2 Tuen Lee St...</td>\n",
       "      <td>22.390776</td>\n",
       "      <td>113.975983</td>\n",
       "    </tr>\n",
       "    <tr>\n",
       "      <th>3</th>\n",
       "      <td>The Coronet @ Emperor Cinemas - Entertainment ...</td>\n",
       "      <td>The Coronet @ 英皇戲院 - 娛樂行</td>\n",
       "      <td>3/F, Emperor Cinemas Entertainment Building, 3...</td>\n",
       "      <td>22.281453</td>\n",
       "      <td>114.154230</td>\n",
       "    </tr>\n",
       "    <tr>\n",
       "      <th>4</th>\n",
       "      <td>Festival Grand Cinema</td>\n",
       "      <td>Festival Grand Cinema</td>\n",
       "      <td>Level UG, Festival Walk, 80 Tat Chee Avenue, K...</td>\n",
       "      <td>22.337882</td>\n",
       "      <td>114.174325</td>\n",
       "    </tr>\n",
       "  </tbody>\n",
       "</table>\n",
       "</div>"
      ],
      "text/plain": [
       "                                                Name  \\\n",
       "0           Emperor Cinemas - Entertainment Building   \n",
       "1                       Emperor Cinemas - Ma On Shan   \n",
       "2                         Emperor Cinemas - Tuen Mun   \n",
       "3  The Coronet @ Emperor Cinemas - Entertainment ...   \n",
       "4                              Festival Grand Cinema   \n",
       "\n",
       "                    ChiName  \\\n",
       "0                英皇戲院 - 娛樂行   \n",
       "1           英皇戲院 - 馬鞍山新港城中心   \n",
       "2             英皇戲院 - 屯門新都商場   \n",
       "3  The Coronet @ 英皇戲院 - 娛樂行   \n",
       "4     Festival Grand Cinema   \n",
       "\n",
       "                                             Address   Latitude   Longitude  \n",
       "0  3/F, Emperor Cinemas Entertainment Building, 3...  22.281453  114.154230  \n",
       "1        L2, MOSTown, Sai Sha Road, Ma On Shan, N.T.  22.424120  114.230957  \n",
       "2  3/F, New Town Commercial Arcade, 2 Tuen Lee St...  22.390776  113.975983  \n",
       "3  3/F, Emperor Cinemas Entertainment Building, 3...  22.281453  114.154230  \n",
       "4  Level UG, Festival Walk, 80 Tat Chee Avenue, K...  22.337882  114.174325  "
      ]
     },
     "execution_count": 5,
     "metadata": {},
     "output_type": "execute_result"
    }
   ],
   "source": [
    "df_cinemas.head()"
   ]
  },
  {
   "cell_type": "code",
   "execution_count": 6,
   "metadata": {},
   "outputs": [],
   "source": [
    "possible_locations = [\n",
    "    { 'Location': 'L1', 'Address': 'Sau Mau Ping Shopping Centre, Sau Mau Ping'},\n",
    "    { 'Location': 'L2', 'Address': 'Tuen Mun Ferry, Tuen Mun'},\n",
    "    { 'Location': 'L3', 'Address': 'Un Chau Shopping Centre, Cheung Sha Wan'},\n",
    "    { 'Location': 'L4', 'Address': 'Prosperity Millennia Plaza, North Point'},\n",
    "    { 'Location': 'L5', 'Address': 'Tsuen Fung Centre Shopping Arcade, Tsuen Wan'},\n",
    "]"
   ]
  },
  {
   "cell_type": "code",
   "execution_count": 7,
   "metadata": {},
   "outputs": [
    {
     "name": "stdout",
     "output_type": "stream",
     "text": [
      "Requirement already up-to-date: googlemaps in /opt/conda/envs/Python36/lib/python3.6/site-packages (3.0.2)\n",
      "Requirement already satisfied, skipping upgrade: requests<3.0,>=2.11.1 in /opt/conda/envs/Python36/lib/python3.6/site-packages (from googlemaps) (2.21.0)\n",
      "Requirement already satisfied, skipping upgrade: certifi>=2017.4.17 in /opt/conda/envs/Python36/lib/python3.6/site-packages (from requests<3.0,>=2.11.1->googlemaps) (2019.6.16)\n",
      "Requirement already satisfied, skipping upgrade: idna<2.9,>=2.5 in /opt/conda/envs/Python36/lib/python3.6/site-packages (from requests<3.0,>=2.11.1->googlemaps) (2.8)\n",
      "Requirement already satisfied, skipping upgrade: urllib3<1.25,>=1.21.1 in /opt/conda/envs/Python36/lib/python3.6/site-packages (from requests<3.0,>=2.11.1->googlemaps) (1.24.1)\n",
      "Requirement already satisfied, skipping upgrade: chardet<3.1.0,>=3.0.2 in /opt/conda/envs/Python36/lib/python3.6/site-packages (from requests<3.0,>=2.11.1->googlemaps) (3.0.4)\n"
     ]
    }
   ],
   "source": [
    "!pip install -U googlemaps"
   ]
  },
  {
   "cell_type": "code",
   "execution_count": 8,
   "metadata": {},
   "outputs": [
    {
     "ename": "FileNotFoundError",
     "evalue": "[Errno 2] No such file or directory: 'google_map_act.json'",
     "output_type": "error",
     "traceback": [
      "\u001b[0;31m---------------------------------------------------------------------------\u001b[0m",
      "\u001b[0;31mFileNotFoundError\u001b[0m                         Traceback (most recent call last)",
      "\u001b[0;32m<ipython-input-8-075efa74f0fd>\u001b[0m in \u001b[0;36m<module>\u001b[0;34m\u001b[0m\n\u001b[1;32m      1\u001b[0m \u001b[0mgoogle_act\u001b[0m \u001b[0;34m=\u001b[0m \u001b[0;32mNone\u001b[0m\u001b[0;34m\u001b[0m\u001b[0;34m\u001b[0m\u001b[0m\n\u001b[0;32m----> 2\u001b[0;31m \u001b[0;32mwith\u001b[0m \u001b[0mopen\u001b[0m\u001b[0;34m(\u001b[0m\u001b[0;34m'google_map_act.json'\u001b[0m\u001b[0;34m,\u001b[0m \u001b[0;34m'r'\u001b[0m\u001b[0;34m)\u001b[0m \u001b[0;32mas\u001b[0m \u001b[0mf\u001b[0m\u001b[0;34m:\u001b[0m\u001b[0;34m\u001b[0m\u001b[0;34m\u001b[0m\u001b[0m\n\u001b[0m\u001b[1;32m      3\u001b[0m     \u001b[0mgoogle_act\u001b[0m \u001b[0;34m=\u001b[0m \u001b[0mjson\u001b[0m\u001b[0;34m.\u001b[0m\u001b[0mload\u001b[0m\u001b[0;34m(\u001b[0m\u001b[0mf\u001b[0m\u001b[0;34m)\u001b[0m\u001b[0;34m\u001b[0m\u001b[0;34m\u001b[0m\u001b[0m\n\u001b[1;32m      4\u001b[0m \u001b[0;34m\u001b[0m\u001b[0m\n\u001b[1;32m      5\u001b[0m \u001b[0mGOOGLE_MAP_API_KEY\u001b[0m \u001b[0;34m=\u001b[0m \u001b[0mgoogle_act\u001b[0m\u001b[0;34m[\u001b[0m\u001b[0;34m'api_key'\u001b[0m\u001b[0;34m]\u001b[0m\u001b[0;34m\u001b[0m\u001b[0;34m\u001b[0m\u001b[0m\n",
      "\u001b[0;31mFileNotFoundError\u001b[0m: [Errno 2] No such file or directory: 'google_map_act.json'"
     ]
    }
   ],
   "source": [
    "google_act = None\n",
    "with open('google_map_act.json', 'r') as f:\n",
    "    google_act = json.load(f)\n",
    "    \n",
    "GOOGLE_MAP_API_KEY = google_act['api_key']    \n",
    "\n",
    "import googlemaps\n",
    "gmaps = googlemaps.Client(key=GOOGLE_MAP_API_KEY)"
   ]
  },
  {
   "cell_type": "code",
   "execution_count": 9,
   "metadata": {},
   "outputs": [],
   "source": [
    "# Retrieve geolocation and create the dataframe of pending cinema addresses\n",
    "def getLatLng(address):\n",
    "    latlnt = gmaps.geocode('{}, Hong Kong'.format(address))\n",
    "    return (latlnt[0]['geometry']['location']['lat'], latlnt[0]['geometry']['location']['lng'])"
   ]
  },
  {
   "cell_type": "code",
   "execution_count": 10,
   "metadata": {},
   "outputs": [
    {
     "ename": "NameError",
     "evalue": "name 'gmaps' is not defined",
     "output_type": "error",
     "traceback": [
      "\u001b[0;31m---------------------------------------------------------------------------\u001b[0m",
      "\u001b[0;31mNameError\u001b[0m                                 Traceback (most recent call last)",
      "\u001b[0;32m<ipython-input-10-7261812eb03d>\u001b[0m in \u001b[0;36m<module>\u001b[0;34m\u001b[0m\n\u001b[1;32m      1\u001b[0m \u001b[0;32mfor\u001b[0m \u001b[0mloc\u001b[0m \u001b[0;32min\u001b[0m \u001b[0mpossible_locations\u001b[0m\u001b[0;34m:\u001b[0m\u001b[0;34m\u001b[0m\u001b[0;34m\u001b[0m\u001b[0m\n\u001b[0;32m----> 2\u001b[0;31m     \u001b[0;34m(\u001b[0m\u001b[0mlat\u001b[0m\u001b[0;34m,\u001b[0m \u001b[0mlng\u001b[0m\u001b[0;34m)\u001b[0m \u001b[0;34m=\u001b[0m \u001b[0mgetLatLng\u001b[0m\u001b[0;34m(\u001b[0m\u001b[0mloc\u001b[0m\u001b[0;34m[\u001b[0m\u001b[0;34m'Address'\u001b[0m\u001b[0;34m]\u001b[0m\u001b[0;34m)\u001b[0m\u001b[0;34m\u001b[0m\u001b[0;34m\u001b[0m\u001b[0m\n\u001b[0m\u001b[1;32m      3\u001b[0m     \u001b[0mloc\u001b[0m\u001b[0;34m[\u001b[0m\u001b[0;34m'Latitude'\u001b[0m\u001b[0;34m]\u001b[0m \u001b[0;34m=\u001b[0m \u001b[0mlat\u001b[0m\u001b[0;34m\u001b[0m\u001b[0;34m\u001b[0m\u001b[0m\n\u001b[1;32m      4\u001b[0m     \u001b[0mloc\u001b[0m\u001b[0;34m[\u001b[0m\u001b[0;34m'Longitude'\u001b[0m\u001b[0;34m]\u001b[0m \u001b[0;34m=\u001b[0m \u001b[0mlng\u001b[0m\u001b[0;34m\u001b[0m\u001b[0;34m\u001b[0m\u001b[0m\n\u001b[1;32m      5\u001b[0m \u001b[0;34m\u001b[0m\u001b[0m\n",
      "\u001b[0;32m<ipython-input-9-e235ace3eaca>\u001b[0m in \u001b[0;36mgetLatLng\u001b[0;34m(address)\u001b[0m\n\u001b[1;32m      1\u001b[0m \u001b[0;31m# Retrieve geolocation and create the dataframe of pending cinema addresses\u001b[0m\u001b[0;34m\u001b[0m\u001b[0;34m\u001b[0m\u001b[0;34m\u001b[0m\u001b[0m\n\u001b[1;32m      2\u001b[0m \u001b[0;32mdef\u001b[0m \u001b[0mgetLatLng\u001b[0m\u001b[0;34m(\u001b[0m\u001b[0maddress\u001b[0m\u001b[0;34m)\u001b[0m\u001b[0;34m:\u001b[0m\u001b[0;34m\u001b[0m\u001b[0;34m\u001b[0m\u001b[0m\n\u001b[0;32m----> 3\u001b[0;31m     \u001b[0mlatlnt\u001b[0m \u001b[0;34m=\u001b[0m \u001b[0mgmaps\u001b[0m\u001b[0;34m.\u001b[0m\u001b[0mgeocode\u001b[0m\u001b[0;34m(\u001b[0m\u001b[0;34m'{}, Hong Kong'\u001b[0m\u001b[0;34m.\u001b[0m\u001b[0mformat\u001b[0m\u001b[0;34m(\u001b[0m\u001b[0maddress\u001b[0m\u001b[0;34m)\u001b[0m\u001b[0;34m)\u001b[0m\u001b[0;34m\u001b[0m\u001b[0;34m\u001b[0m\u001b[0m\n\u001b[0m\u001b[1;32m      4\u001b[0m     \u001b[0;32mreturn\u001b[0m \u001b[0;34m(\u001b[0m\u001b[0mlatlnt\u001b[0m\u001b[0;34m[\u001b[0m\u001b[0;36m0\u001b[0m\u001b[0;34m]\u001b[0m\u001b[0;34m[\u001b[0m\u001b[0;34m'geometry'\u001b[0m\u001b[0;34m]\u001b[0m\u001b[0;34m[\u001b[0m\u001b[0;34m'location'\u001b[0m\u001b[0;34m]\u001b[0m\u001b[0;34m[\u001b[0m\u001b[0;34m'lat'\u001b[0m\u001b[0;34m]\u001b[0m\u001b[0;34m,\u001b[0m \u001b[0mlatlnt\u001b[0m\u001b[0;34m[\u001b[0m\u001b[0;36m0\u001b[0m\u001b[0;34m]\u001b[0m\u001b[0;34m[\u001b[0m\u001b[0;34m'geometry'\u001b[0m\u001b[0;34m]\u001b[0m\u001b[0;34m[\u001b[0m\u001b[0;34m'location'\u001b[0m\u001b[0;34m]\u001b[0m\u001b[0;34m[\u001b[0m\u001b[0;34m'lng'\u001b[0m\u001b[0;34m]\u001b[0m\u001b[0;34m)\u001b[0m\u001b[0;34m\u001b[0m\u001b[0;34m\u001b[0m\u001b[0m\n",
      "\u001b[0;31mNameError\u001b[0m: name 'gmaps' is not defined"
     ]
    }
   ],
   "source": [
    "for loc in possible_locations:        \n",
    "    (lat, lng) = getLatLng(loc['Address'])\n",
    "    loc['Latitude'] = lat\n",
    "    loc['Longitude'] = lng\n",
    "    \n",
    "df_possible_locations = pd.DataFrame(possible_locations, columns=['Location', 'Address', 'Latitude', 'Longitude'])\n",
    "df_possible_locations"
   ]
  },
  {
   "cell_type": "markdown",
   "metadata": {},
   "source": [
    "#### 3. Favorite cinema"
   ]
  },
  {
   "cell_type": "code",
   "execution_count": 11,
   "metadata": {},
   "outputs": [
    {
     "data": {
      "text/html": [
       "<div>\n",
       "<style scoped>\n",
       "    .dataframe tbody tr th:only-of-type {\n",
       "        vertical-align: middle;\n",
       "    }\n",
       "\n",
       "    .dataframe tbody tr th {\n",
       "        vertical-align: top;\n",
       "    }\n",
       "\n",
       "    .dataframe thead th {\n",
       "        text-align: right;\n",
       "    }\n",
       "</style>\n",
       "<table border=\"1\" class=\"dataframe\">\n",
       "  <thead>\n",
       "    <tr style=\"text-align: right;\">\n",
       "      <th></th>\n",
       "      <th>Name</th>\n",
       "      <th>Rating</th>\n",
       "    </tr>\n",
       "  </thead>\n",
       "  <tbody>\n",
       "    <tr>\n",
       "      <th>0</th>\n",
       "      <td>Broadway Circuit - MONGKOK</td>\n",
       "      <td>4.5</td>\n",
       "    </tr>\n",
       "    <tr>\n",
       "      <th>1</th>\n",
       "      <td>Broadway Circuit - The ONE</td>\n",
       "      <td>4.5</td>\n",
       "    </tr>\n",
       "    <tr>\n",
       "      <th>2</th>\n",
       "      <td>Grand Ocean</td>\n",
       "      <td>4.3</td>\n",
       "    </tr>\n",
       "    <tr>\n",
       "      <th>3</th>\n",
       "      <td>The Grand Cinema</td>\n",
       "      <td>3.4</td>\n",
       "    </tr>\n",
       "    <tr>\n",
       "      <th>4</th>\n",
       "      <td>AMC Pacific Place</td>\n",
       "      <td>2.3</td>\n",
       "    </tr>\n",
       "    <tr>\n",
       "      <th>5</th>\n",
       "      <td>UA IMAX @ Airport</td>\n",
       "      <td>1.5</td>\n",
       "    </tr>\n",
       "  </tbody>\n",
       "</table>\n",
       "</div>"
      ],
      "text/plain": [
       "                         Name  Rating\n",
       "0  Broadway Circuit - MONGKOK     4.5\n",
       "1  Broadway Circuit - The ONE     4.5\n",
       "2                 Grand Ocean     4.3\n",
       "3            The Grand Cinema     3.4\n",
       "4           AMC Pacific Place     2.3\n",
       "5           UA IMAX @ Airport     1.5"
      ]
     },
     "execution_count": 11,
     "metadata": {},
     "output_type": "execute_result"
    }
   ],
   "source": [
    "boss_favorite = [\n",
    "    {'Name': 'Broadway Circuit - MONGKOK', 'Rating': 4.5},\n",
    "    {'Name': 'Broadway Circuit - The ONE', 'Rating': 4.5},\n",
    "    {'Name': 'Grand Ocean', 'Rating': 4.3},\n",
    "    {'Name': 'The Grand Cinema', 'Rating': 3.4},\n",
    "    {'Name': 'AMC Pacific Place', 'Rating': 2.3},\n",
    "    {'Name': 'UA IMAX @ Airport', 'Rating': 1.5},\n",
    "]\n",
    "\n",
    "df_boss_favorite = pd.DataFrame(boss_favorite, columns=['Name','Rating'])\n",
    "df_boss_favorite"
   ]
  },
  {
   "cell_type": "markdown",
   "metadata": {},
   "source": [
    "#### 4. Eating, Shopping and Public transportation facility around cinema\n",
    "The recommended cinema location needs to have many eating and shopping venues nearby. Convenient public transport is also required.  \n",
    "These data can be found by using FourSquare API to find these venues around the location. The radius of exploration distance is set to 500 meters, which is about 5 minutes walking distance."
   ]
  },
  {
   "cell_type": "markdown",
   "metadata": {},
   "source": [
    "Following type of venue category will be used to search"
   ]
  },
  {
   "cell_type": "code",
   "execution_count": 12,
   "metadata": {},
   "outputs": [],
   "source": [
    "fs_categories = {\n",
    "    'Food': '4d4b7105d754a06374d81259',\n",
    "    'Shop & Service': '4d4b7105d754a06378d81259',\n",
    "    'Bus Stop': '52f2ab2ebcbc57f1066b8b4f',\n",
    "    'Metro Station': '4bf58dd8d48988d1fd931735',\n",
    "    'Nightlife Spot': '4d4b7105d754a06376d81259',\n",
    "    'Arts & Entertainment': '4d4b7104d754a06370d81259'\n",
    "}"
   ]
  },
  {
   "cell_type": "code",
   "execution_count": 13,
   "metadata": {},
   "outputs": [
    {
     "data": {
      "text/plain": [
       "'Food, Shop & Service, Bus Stop, Metro Station, Nightlife Spot, Arts & Entertainment'"
      ]
     },
     "execution_count": 13,
     "metadata": {},
     "output_type": "execute_result"
    }
   ],
   "source": [
    "', '.join([ cat for cat in fs_categories])"
   ]
  },
  {
   "cell_type": "code",
   "execution_count": 14,
   "metadata": {},
   "outputs": [],
   "source": [
    "cinema = df_cinemas.loc[0]"
   ]
  },
  {
   "cell_type": "code",
   "execution_count": 15,
   "metadata": {},
   "outputs": [
    {
     "name": "stdout",
     "output_type": "stream",
     "text": [
      "Use the first cinema \"Emperor Cinemas - Entertainment Building\" in the list as example to explore venues nearyby\n"
     ]
    }
   ],
   "source": [
    "print('Use the first cinema \"{}\" in the list as example to explore venues nearyby'.format(cinema['Name']))"
   ]
  },
  {
   "cell_type": "code",
   "execution_count": 16,
   "metadata": {},
   "outputs": [
    {
     "name": "stdout",
     "output_type": "stream",
     "text": [
      "Requirement already satisfied: foursquare in /opt/conda/envs/Python36/lib/python3.6/site-packages (1!2019.2.16)\n",
      "Requirement already satisfied: requests>=2.1 in /opt/conda/envs/Python36/lib/python3.6/site-packages (from foursquare) (2.21.0)\n",
      "Requirement already satisfied: six in /opt/conda/envs/Python36/lib/python3.6/site-packages (from foursquare) (1.12.0)\n",
      "Requirement already satisfied: idna<2.9,>=2.5 in /opt/conda/envs/Python36/lib/python3.6/site-packages (from requests>=2.1->foursquare) (2.8)\n",
      "Requirement already satisfied: certifi>=2017.4.17 in /opt/conda/envs/Python36/lib/python3.6/site-packages (from requests>=2.1->foursquare) (2019.6.16)\n",
      "Requirement already satisfied: chardet<3.1.0,>=3.0.2 in /opt/conda/envs/Python36/lib/python3.6/site-packages (from requests>=2.1->foursquare) (3.0.4)\n",
      "Requirement already satisfied: urllib3<1.25,>=1.21.1 in /opt/conda/envs/Python36/lib/python3.6/site-packages (from requests>=2.1->foursquare) (1.24.1)\n"
     ]
    }
   ],
   "source": [
    "!pip install foursquare"
   ]
  },
  {
   "cell_type": "code",
   "execution_count": 17,
   "metadata": {},
   "outputs": [
    {
     "ename": "FileNotFoundError",
     "evalue": "[Errno 2] No such file or directory: 'fs_act.json'",
     "output_type": "error",
     "traceback": [
      "\u001b[0;31m---------------------------------------------------------------------------\u001b[0m",
      "\u001b[0;31mFileNotFoundError\u001b[0m                         Traceback (most recent call last)",
      "\u001b[0;32m<ipython-input-17-a2ea852288f4>\u001b[0m in \u001b[0;36m<module>\u001b[0;34m\u001b[0m\n\u001b[1;32m      1\u001b[0m \u001b[0mfs_act\u001b[0m \u001b[0;34m=\u001b[0m \u001b[0;32mNone\u001b[0m\u001b[0;34m\u001b[0m\u001b[0;34m\u001b[0m\u001b[0m\n\u001b[0;32m----> 2\u001b[0;31m \u001b[0;32mwith\u001b[0m \u001b[0mopen\u001b[0m\u001b[0;34m(\u001b[0m\u001b[0;34m'fs_act.json'\u001b[0m\u001b[0;34m)\u001b[0m \u001b[0;32mas\u001b[0m \u001b[0mjson_data\u001b[0m\u001b[0;34m:\u001b[0m\u001b[0;34m\u001b[0m\u001b[0;34m\u001b[0m\u001b[0m\n\u001b[0m\u001b[1;32m      3\u001b[0m     \u001b[0mfs_act\u001b[0m \u001b[0;34m=\u001b[0m \u001b[0mjson\u001b[0m\u001b[0;34m.\u001b[0m\u001b[0mload\u001b[0m\u001b[0;34m(\u001b[0m\u001b[0mjson_data\u001b[0m\u001b[0;34m)\u001b[0m\u001b[0;34m\u001b[0m\u001b[0;34m\u001b[0m\u001b[0m\n",
      "\u001b[0;31mFileNotFoundError\u001b[0m: [Errno 2] No such file or directory: 'fs_act.json'"
     ]
    }
   ],
   "source": [
    "fs_act = None\n",
    "with open('fs_act.json') as json_data:\n",
    "    fs_act = json.load(json_data)"
   ]
  },
  {
   "cell_type": "code",
   "execution_count": 18,
   "metadata": {},
   "outputs": [
    {
     "ename": "TypeError",
     "evalue": "'NoneType' object is not subscriptable",
     "output_type": "error",
     "traceback": [
      "\u001b[0;31m---------------------------------------------------------------------------\u001b[0m",
      "\u001b[0;31mTypeError\u001b[0m                                 Traceback (most recent call last)",
      "\u001b[0;32m<ipython-input-18-6fc4d8530be7>\u001b[0m in \u001b[0;36m<module>\u001b[0;34m\u001b[0m\n\u001b[1;32m      1\u001b[0m \u001b[0;32mimport\u001b[0m \u001b[0mfoursquare\u001b[0m\u001b[0;34m\u001b[0m\u001b[0;34m\u001b[0m\u001b[0m\n\u001b[1;32m      2\u001b[0m \u001b[0;32mfrom\u001b[0m \u001b[0mpandas\u001b[0m\u001b[0;34m.\u001b[0m\u001b[0mio\u001b[0m\u001b[0;34m.\u001b[0m\u001b[0mjson\u001b[0m \u001b[0;32mimport\u001b[0m \u001b[0mjson_normalize\u001b[0m \u001b[0;31m# tranform JSON file into a pandas dataframe\u001b[0m\u001b[0;34m\u001b[0m\u001b[0;34m\u001b[0m\u001b[0m\n\u001b[0;32m----> 3\u001b[0;31m \u001b[0mfs\u001b[0m \u001b[0;34m=\u001b[0m \u001b[0mfoursquare\u001b[0m\u001b[0;34m.\u001b[0m\u001b[0mFoursquare\u001b[0m\u001b[0;34m(\u001b[0m\u001b[0mclient_id\u001b[0m\u001b[0;34m=\u001b[0m\u001b[0mfs_act\u001b[0m\u001b[0;34m[\u001b[0m\u001b[0;34m'client_id'\u001b[0m\u001b[0;34m]\u001b[0m\u001b[0;34m,\u001b[0m \u001b[0mclient_secret\u001b[0m\u001b[0;34m=\u001b[0m\u001b[0mfs_act\u001b[0m\u001b[0;34m[\u001b[0m\u001b[0;34m'client_secret'\u001b[0m\u001b[0;34m]\u001b[0m\u001b[0;34m)\u001b[0m\u001b[0;34m\u001b[0m\u001b[0;34m\u001b[0m\u001b[0m\n\u001b[0m",
      "\u001b[0;31mTypeError\u001b[0m: 'NoneType' object is not subscriptable"
     ]
    }
   ],
   "source": [
    "import foursquare\n",
    "from pandas.io.json import json_normalize # tranform JSON file into a pandas dataframe\n",
    "fs = foursquare.Foursquare(client_id=fs_act['client_id'], client_secret=fs_act['client_secret'])"
   ]
  },
  {
   "cell_type": "code",
   "execution_count": 19,
   "metadata": {},
   "outputs": [],
   "source": [
    "RADIUS = 500 "
   ]
  },
  {
   "cell_type": "code",
   "execution_count": 20,
   "metadata": {},
   "outputs": [],
   "source": [
    "def venues_nearby(latitude, longitude, category, verbose=True):    \n",
    "    results = fs.venues.search(\n",
    "        params = {\n",
    "            'query': category, \n",
    "            'll': '{},{}'.format(latitude, longitude),\n",
    "            'radius': RADIUS,\n",
    "            'categoryId': fs_categories[category]\n",
    "        }\n",
    "    )    \n",
    "    df = json_normalize(results['venues'])\n",
    "    cols = ['Name','Latitude','Longitude','Tips','Users','Visits']    \n",
    "    if( len(df) == 0 ):        \n",
    "        df = pd.DataFrame(columns=cols)\n",
    "    else:        \n",
    "        df = df[['name','location.lat','location.lng','stats.tipCount','stats.usersCount','stats.visitsCount']]\n",
    "        df.columns = cols\n",
    "    if( verbose ):\n",
    "        print('{} \"{}\" venues are found within {}m of location'.format(len(df), category, RADIUS))\n",
    "    return df\n",
    "    "
   ]
  },
  {
   "cell_type": "markdown",
   "metadata": {},
   "source": [
    "Find Metro Station around the cinema"
   ]
  },
  {
   "cell_type": "code",
   "execution_count": 21,
   "metadata": {},
   "outputs": [
    {
     "ename": "NameError",
     "evalue": "name 'fs' is not defined",
     "output_type": "error",
     "traceback": [
      "\u001b[0;31m---------------------------------------------------------------------------\u001b[0m",
      "\u001b[0;31mNameError\u001b[0m                                 Traceback (most recent call last)",
      "\u001b[0;32m<ipython-input-21-689228128b7e>\u001b[0m in \u001b[0;36m<module>\u001b[0;34m\u001b[0m\n\u001b[0;32m----> 1\u001b[0;31m \u001b[0mvenues_nearby\u001b[0m\u001b[0;34m(\u001b[0m\u001b[0mcinema\u001b[0m\u001b[0;34m[\u001b[0m\u001b[0;34m'Latitude'\u001b[0m\u001b[0;34m]\u001b[0m\u001b[0;34m,\u001b[0m \u001b[0mcinema\u001b[0m\u001b[0;34m[\u001b[0m\u001b[0;34m'Longitude'\u001b[0m\u001b[0;34m]\u001b[0m\u001b[0;34m,\u001b[0m \u001b[0;34m'Metro Station'\u001b[0m\u001b[0;34m)\u001b[0m\u001b[0;34m.\u001b[0m\u001b[0mhead\u001b[0m\u001b[0;34m(\u001b[0m\u001b[0;34m)\u001b[0m\u001b[0;34m\u001b[0m\u001b[0;34m\u001b[0m\u001b[0m\n\u001b[0m",
      "\u001b[0;32m<ipython-input-20-5c59482585e5>\u001b[0m in \u001b[0;36mvenues_nearby\u001b[0;34m(latitude, longitude, category, verbose)\u001b[0m\n\u001b[1;32m      1\u001b[0m \u001b[0;32mdef\u001b[0m \u001b[0mvenues_nearby\u001b[0m\u001b[0;34m(\u001b[0m\u001b[0mlatitude\u001b[0m\u001b[0;34m,\u001b[0m \u001b[0mlongitude\u001b[0m\u001b[0;34m,\u001b[0m \u001b[0mcategory\u001b[0m\u001b[0;34m,\u001b[0m \u001b[0mverbose\u001b[0m\u001b[0;34m=\u001b[0m\u001b[0;32mTrue\u001b[0m\u001b[0;34m)\u001b[0m\u001b[0;34m:\u001b[0m\u001b[0;34m\u001b[0m\u001b[0;34m\u001b[0m\u001b[0m\n\u001b[0;32m----> 2\u001b[0;31m     results = fs.venues.search(\n\u001b[0m\u001b[1;32m      3\u001b[0m         params = {\n\u001b[1;32m      4\u001b[0m             \u001b[0;34m'query'\u001b[0m\u001b[0;34m:\u001b[0m \u001b[0mcategory\u001b[0m\u001b[0;34m,\u001b[0m\u001b[0;34m\u001b[0m\u001b[0;34m\u001b[0m\u001b[0m\n\u001b[1;32m      5\u001b[0m             \u001b[0;34m'll'\u001b[0m\u001b[0;34m:\u001b[0m \u001b[0;34m'{},{}'\u001b[0m\u001b[0;34m.\u001b[0m\u001b[0mformat\u001b[0m\u001b[0;34m(\u001b[0m\u001b[0mlatitude\u001b[0m\u001b[0;34m,\u001b[0m \u001b[0mlongitude\u001b[0m\u001b[0;34m)\u001b[0m\u001b[0;34m,\u001b[0m\u001b[0;34m\u001b[0m\u001b[0;34m\u001b[0m\u001b[0m\n",
      "\u001b[0;31mNameError\u001b[0m: name 'fs' is not defined"
     ]
    }
   ],
   "source": [
    "venues_nearby(cinema['Latitude'], cinema['Longitude'], 'Metro Station').head()"
   ]
  },
  {
   "cell_type": "markdown",
   "metadata": {},
   "source": [
    "Find Bus Stop around the cinema"
   ]
  },
  {
   "cell_type": "code",
   "execution_count": 22,
   "metadata": {},
   "outputs": [
    {
     "ename": "NameError",
     "evalue": "name 'fs' is not defined",
     "output_type": "error",
     "traceback": [
      "\u001b[0;31m---------------------------------------------------------------------------\u001b[0m",
      "\u001b[0;31mNameError\u001b[0m                                 Traceback (most recent call last)",
      "\u001b[0;32m<ipython-input-22-8478c23735f2>\u001b[0m in \u001b[0;36m<module>\u001b[0;34m\u001b[0m\n\u001b[0;32m----> 1\u001b[0;31m \u001b[0mvenues_nearby\u001b[0m\u001b[0;34m(\u001b[0m\u001b[0mcinema\u001b[0m\u001b[0;34m[\u001b[0m\u001b[0;34m'Latitude'\u001b[0m\u001b[0;34m]\u001b[0m\u001b[0;34m,\u001b[0m \u001b[0mcinema\u001b[0m\u001b[0;34m[\u001b[0m\u001b[0;34m'Longitude'\u001b[0m\u001b[0;34m]\u001b[0m\u001b[0;34m,\u001b[0m \u001b[0;34m'Bus Stop'\u001b[0m\u001b[0;34m)\u001b[0m\u001b[0;34m.\u001b[0m\u001b[0mhead\u001b[0m\u001b[0;34m(\u001b[0m\u001b[0;34m)\u001b[0m\u001b[0;34m\u001b[0m\u001b[0;34m\u001b[0m\u001b[0m\n\u001b[0m",
      "\u001b[0;32m<ipython-input-20-5c59482585e5>\u001b[0m in \u001b[0;36mvenues_nearby\u001b[0;34m(latitude, longitude, category, verbose)\u001b[0m\n\u001b[1;32m      1\u001b[0m \u001b[0;32mdef\u001b[0m \u001b[0mvenues_nearby\u001b[0m\u001b[0;34m(\u001b[0m\u001b[0mlatitude\u001b[0m\u001b[0;34m,\u001b[0m \u001b[0mlongitude\u001b[0m\u001b[0;34m,\u001b[0m \u001b[0mcategory\u001b[0m\u001b[0;34m,\u001b[0m \u001b[0mverbose\u001b[0m\u001b[0;34m=\u001b[0m\u001b[0;32mTrue\u001b[0m\u001b[0;34m)\u001b[0m\u001b[0;34m:\u001b[0m\u001b[0;34m\u001b[0m\u001b[0;34m\u001b[0m\u001b[0m\n\u001b[0;32m----> 2\u001b[0;31m     results = fs.venues.search(\n\u001b[0m\u001b[1;32m      3\u001b[0m         params = {\n\u001b[1;32m      4\u001b[0m             \u001b[0;34m'query'\u001b[0m\u001b[0;34m:\u001b[0m \u001b[0mcategory\u001b[0m\u001b[0;34m,\u001b[0m\u001b[0;34m\u001b[0m\u001b[0;34m\u001b[0m\u001b[0m\n\u001b[1;32m      5\u001b[0m             \u001b[0;34m'll'\u001b[0m\u001b[0;34m:\u001b[0m \u001b[0;34m'{},{}'\u001b[0m\u001b[0;34m.\u001b[0m\u001b[0mformat\u001b[0m\u001b[0;34m(\u001b[0m\u001b[0mlatitude\u001b[0m\u001b[0;34m,\u001b[0m \u001b[0mlongitude\u001b[0m\u001b[0;34m)\u001b[0m\u001b[0;34m,\u001b[0m\u001b[0;34m\u001b[0m\u001b[0;34m\u001b[0m\u001b[0m\n",
      "\u001b[0;31mNameError\u001b[0m: name 'fs' is not defined"
     ]
    }
   ],
   "source": [
    "venues_nearby(cinema['Latitude'], cinema['Longitude'], 'Bus Stop').head()"
   ]
  },
  {
   "cell_type": "markdown",
   "metadata": {},
   "source": [
    "Find eating places around the cinema"
   ]
  },
  {
   "cell_type": "code",
   "execution_count": 23,
   "metadata": {},
   "outputs": [
    {
     "ename": "NameError",
     "evalue": "name 'fs' is not defined",
     "output_type": "error",
     "traceback": [
      "\u001b[0;31m---------------------------------------------------------------------------\u001b[0m",
      "\u001b[0;31mNameError\u001b[0m                                 Traceback (most recent call last)",
      "\u001b[0;32m<ipython-input-23-2a18accb2c45>\u001b[0m in \u001b[0;36m<module>\u001b[0;34m\u001b[0m\n\u001b[0;32m----> 1\u001b[0;31m \u001b[0mvenues_nearby\u001b[0m\u001b[0;34m(\u001b[0m\u001b[0mcinema\u001b[0m\u001b[0;34m[\u001b[0m\u001b[0;34m'Latitude'\u001b[0m\u001b[0;34m]\u001b[0m\u001b[0;34m,\u001b[0m \u001b[0mcinema\u001b[0m\u001b[0;34m[\u001b[0m\u001b[0;34m'Longitude'\u001b[0m\u001b[0;34m]\u001b[0m\u001b[0;34m,\u001b[0m \u001b[0;34m'Food'\u001b[0m\u001b[0;34m)\u001b[0m\u001b[0;34m.\u001b[0m\u001b[0mhead\u001b[0m\u001b[0;34m(\u001b[0m\u001b[0;34m)\u001b[0m\u001b[0;34m\u001b[0m\u001b[0;34m\u001b[0m\u001b[0m\n\u001b[0m",
      "\u001b[0;32m<ipython-input-20-5c59482585e5>\u001b[0m in \u001b[0;36mvenues_nearby\u001b[0;34m(latitude, longitude, category, verbose)\u001b[0m\n\u001b[1;32m      1\u001b[0m \u001b[0;32mdef\u001b[0m \u001b[0mvenues_nearby\u001b[0m\u001b[0;34m(\u001b[0m\u001b[0mlatitude\u001b[0m\u001b[0;34m,\u001b[0m \u001b[0mlongitude\u001b[0m\u001b[0;34m,\u001b[0m \u001b[0mcategory\u001b[0m\u001b[0;34m,\u001b[0m \u001b[0mverbose\u001b[0m\u001b[0;34m=\u001b[0m\u001b[0;32mTrue\u001b[0m\u001b[0;34m)\u001b[0m\u001b[0;34m:\u001b[0m\u001b[0;34m\u001b[0m\u001b[0;34m\u001b[0m\u001b[0m\n\u001b[0;32m----> 2\u001b[0;31m     results = fs.venues.search(\n\u001b[0m\u001b[1;32m      3\u001b[0m         params = {\n\u001b[1;32m      4\u001b[0m             \u001b[0;34m'query'\u001b[0m\u001b[0;34m:\u001b[0m \u001b[0mcategory\u001b[0m\u001b[0;34m,\u001b[0m\u001b[0;34m\u001b[0m\u001b[0;34m\u001b[0m\u001b[0m\n\u001b[1;32m      5\u001b[0m             \u001b[0;34m'll'\u001b[0m\u001b[0;34m:\u001b[0m \u001b[0;34m'{},{}'\u001b[0m\u001b[0;34m.\u001b[0m\u001b[0mformat\u001b[0m\u001b[0;34m(\u001b[0m\u001b[0mlatitude\u001b[0m\u001b[0;34m,\u001b[0m \u001b[0mlongitude\u001b[0m\u001b[0;34m)\u001b[0m\u001b[0;34m,\u001b[0m\u001b[0;34m\u001b[0m\u001b[0;34m\u001b[0m\u001b[0m\n",
      "\u001b[0;31mNameError\u001b[0m: name 'fs' is not defined"
     ]
    }
   ],
   "source": [
    "venues_nearby(cinema['Latitude'], cinema['Longitude'], 'Food').head()"
   ]
  },
  {
   "cell_type": "code",
   "execution_count": 24,
   "metadata": {},
   "outputs": [
    {
     "ename": "NameError",
     "evalue": "name 'fs' is not defined",
     "output_type": "error",
     "traceback": [
      "\u001b[0;31m---------------------------------------------------------------------------\u001b[0m",
      "\u001b[0;31mNameError\u001b[0m                                 Traceback (most recent call last)",
      "\u001b[0;32m<ipython-input-24-9cc753048f95>\u001b[0m in \u001b[0;36m<module>\u001b[0;34m\u001b[0m\n\u001b[0;32m----> 1\u001b[0;31m \u001b[0mvenues_nearby\u001b[0m\u001b[0;34m(\u001b[0m\u001b[0mcinema\u001b[0m\u001b[0;34m[\u001b[0m\u001b[0;34m'Latitude'\u001b[0m\u001b[0;34m]\u001b[0m\u001b[0;34m,\u001b[0m \u001b[0mcinema\u001b[0m\u001b[0;34m[\u001b[0m\u001b[0;34m'Longitude'\u001b[0m\u001b[0;34m]\u001b[0m\u001b[0;34m,\u001b[0m \u001b[0;34m'Arts & Entertainment'\u001b[0m\u001b[0;34m)\u001b[0m\u001b[0;34m.\u001b[0m\u001b[0mhead\u001b[0m\u001b[0;34m(\u001b[0m\u001b[0;34m)\u001b[0m\u001b[0;34m\u001b[0m\u001b[0;34m\u001b[0m\u001b[0m\n\u001b[0m",
      "\u001b[0;32m<ipython-input-20-5c59482585e5>\u001b[0m in \u001b[0;36mvenues_nearby\u001b[0;34m(latitude, longitude, category, verbose)\u001b[0m\n\u001b[1;32m      1\u001b[0m \u001b[0;32mdef\u001b[0m \u001b[0mvenues_nearby\u001b[0m\u001b[0;34m(\u001b[0m\u001b[0mlatitude\u001b[0m\u001b[0;34m,\u001b[0m \u001b[0mlongitude\u001b[0m\u001b[0;34m,\u001b[0m \u001b[0mcategory\u001b[0m\u001b[0;34m,\u001b[0m \u001b[0mverbose\u001b[0m\u001b[0;34m=\u001b[0m\u001b[0;32mTrue\u001b[0m\u001b[0;34m)\u001b[0m\u001b[0;34m:\u001b[0m\u001b[0;34m\u001b[0m\u001b[0;34m\u001b[0m\u001b[0m\n\u001b[0;32m----> 2\u001b[0;31m     results = fs.venues.search(\n\u001b[0m\u001b[1;32m      3\u001b[0m         params = {\n\u001b[1;32m      4\u001b[0m             \u001b[0;34m'query'\u001b[0m\u001b[0;34m:\u001b[0m \u001b[0mcategory\u001b[0m\u001b[0;34m,\u001b[0m\u001b[0;34m\u001b[0m\u001b[0;34m\u001b[0m\u001b[0m\n\u001b[1;32m      5\u001b[0m             \u001b[0;34m'll'\u001b[0m\u001b[0;34m:\u001b[0m \u001b[0;34m'{},{}'\u001b[0m\u001b[0;34m.\u001b[0m\u001b[0mformat\u001b[0m\u001b[0;34m(\u001b[0m\u001b[0mlatitude\u001b[0m\u001b[0;34m,\u001b[0m \u001b[0mlongitude\u001b[0m\u001b[0;34m)\u001b[0m\u001b[0;34m,\u001b[0m\u001b[0;34m\u001b[0m\u001b[0;34m\u001b[0m\u001b[0m\n",
      "\u001b[0;31mNameError\u001b[0m: name 'fs' is not defined"
     ]
    }
   ],
   "source": [
    "venues_nearby(cinema['Latitude'], cinema['Longitude'], 'Arts & Entertainment').head()"
   ]
  },
  {
   "cell_type": "markdown",
   "metadata": {},
   "source": [
    "## Methodology "
   ]
  },
  {
   "cell_type": "markdown",
   "metadata": {},
   "source": [
    "Methodology section which represents the main component of the report where you discuss and describe any exploratory data analysis that you did, any inferential statistical testing that you performed, and what machine learnings were used and why."
   ]
  },
  {
   "cell_type": "markdown",
   "metadata": {},
   "source": [
    "With above data, I can use content-based recommendation technique to resolve the problem.\n",
    "\n",
    "Combine with FourSquare API which provides how many venues in different category of Hong Kong cinemas, a matrix which captured characteristic of venues nearby cinema are built. Stakeholder's favorite list is the profile to combine with the matrix to become a weighted matrix of favorite cinema.\n",
    "\n",
    "The weighted matrix can be applied on 5 target locations with venues information to generate a ranking result. The the top one on the ranking list can be recommended to the stakeholder.\n",
    "\n",
    "Before building the matrix, I have to prepare the required data and apply some data analysis."
   ]
  },
  {
   "cell_type": "markdown",
   "metadata": {},
   "source": [
    "#### Data Cleansing and Preparation"
   ]
  },
  {
   "cell_type": "markdown",
   "metadata": {},
   "source": [
    "Check the cinemas dataset contains any duplicated address"
   ]
  },
  {
   "cell_type": "code",
   "execution_count": 27,
   "metadata": {},
   "outputs": [
    {
     "data": {
      "text/html": [
       "<div>\n",
       "<style scoped>\n",
       "    .dataframe tbody tr th:only-of-type {\n",
       "        vertical-align: middle;\n",
       "    }\n",
       "\n",
       "    .dataframe tbody tr th {\n",
       "        vertical-align: top;\n",
       "    }\n",
       "\n",
       "    .dataframe thead th {\n",
       "        text-align: right;\n",
       "    }\n",
       "</style>\n",
       "<table border=\"1\" class=\"dataframe\">\n",
       "  <thead>\n",
       "    <tr style=\"text-align: right;\">\n",
       "      <th></th>\n",
       "      <th>Name</th>\n",
       "      <th>ChiName</th>\n",
       "      <th>Address</th>\n",
       "      <th>Latitude</th>\n",
       "      <th>Longitude</th>\n",
       "    </tr>\n",
       "  </thead>\n",
       "  <tbody>\n",
       "    <tr>\n",
       "      <th>15</th>\n",
       "      <td>Cinema City VICTORIA (Causeway Bay)</td>\n",
       "      <td>Cinema City VICTORIA (銅鑼灣)</td>\n",
       "      <td>2-8 Sugar Street, Causeway Bay, Hong Kong</td>\n",
       "      <td>22.279805</td>\n",
       "      <td>114.187126</td>\n",
       "    </tr>\n",
       "    <tr>\n",
       "      <th>16</th>\n",
       "      <td>Diamond Suite VIP House @ Cinema City VICTORIA...</td>\n",
       "      <td>Diamond Suite VIP House @ Cinema City VICTORIA...</td>\n",
       "      <td>2-8 Sugar Street, Causeway Bay, Hong Kong</td>\n",
       "      <td>22.279805</td>\n",
       "      <td>114.187126</td>\n",
       "    </tr>\n",
       "    <tr>\n",
       "      <th>0</th>\n",
       "      <td>Emperor Cinemas - Entertainment Building</td>\n",
       "      <td>英皇戲院 - 娛樂行</td>\n",
       "      <td>3/F, Emperor Cinemas Entertainment Building, 3...</td>\n",
       "      <td>22.281453</td>\n",
       "      <td>114.154230</td>\n",
       "    </tr>\n",
       "    <tr>\n",
       "      <th>3</th>\n",
       "      <td>The Coronet @ Emperor Cinemas - Entertainment ...</td>\n",
       "      <td>The Coronet @ 英皇戲院 - 娛樂行</td>\n",
       "      <td>3/F, Emperor Cinemas Entertainment Building, 3...</td>\n",
       "      <td>22.281453</td>\n",
       "      <td>114.154230</td>\n",
       "    </tr>\n",
       "    <tr>\n",
       "      <th>46</th>\n",
       "      <td>IMAX @ UA iSQUARE</td>\n",
       "      <td>IMAX @ UA iSQUARE</td>\n",
       "      <td>7/F, iSQUARE, 63 Nathan Road, Tsimshatsui</td>\n",
       "      <td>22.296648</td>\n",
       "      <td>114.171974</td>\n",
       "    </tr>\n",
       "    <tr>\n",
       "      <th>49</th>\n",
       "      <td>Phoenix Club @ UA iSQUARE</td>\n",
       "      <td>鳯凰影院 @ UA iSQUARE</td>\n",
       "      <td>7/F, iSQUARE, 63 Nathan Road, Tsimshatsui</td>\n",
       "      <td>22.296648</td>\n",
       "      <td>114.171974</td>\n",
       "    </tr>\n",
       "    <tr>\n",
       "      <th>52</th>\n",
       "      <td>UA iSQUARE</td>\n",
       "      <td>UA iSQUARE</td>\n",
       "      <td>7/F, iSQUARE, 63 Nathan Road, Tsimshatsui</td>\n",
       "      <td>22.296648</td>\n",
       "      <td>114.171974</td>\n",
       "    </tr>\n",
       "    <tr>\n",
       "      <th>45</th>\n",
       "      <td>IMAX @ UA Cine Moko</td>\n",
       "      <td>IMAX @ UA Cine Moko</td>\n",
       "      <td>L4, MOKO, 193 Prince Edward Road West, Mongkok...</td>\n",
       "      <td>22.323800</td>\n",
       "      <td>114.172000</td>\n",
       "    </tr>\n",
       "    <tr>\n",
       "      <th>51</th>\n",
       "      <td>UA Cine Moko</td>\n",
       "      <td>UA Cine Moko</td>\n",
       "      <td>L4, MOKO, 193 Prince Edward Road West, Mongkok...</td>\n",
       "      <td>22.323800</td>\n",
       "      <td>114.172000</td>\n",
       "    </tr>\n",
       "    <tr>\n",
       "      <th>47</th>\n",
       "      <td>IMAX @ UA MegaBox</td>\n",
       "      <td>IMAX @ UA MegaBox</td>\n",
       "      <td>Level 11, MegaBox, Enterprise Square 5, 38 Wan...</td>\n",
       "      <td>22.319533</td>\n",
       "      <td>114.208555</td>\n",
       "    </tr>\n",
       "    <tr>\n",
       "      <th>48</th>\n",
       "      <td>Oscars Club @ UA MegaBox</td>\n",
       "      <td>Oscars Club @ UA MegaBox</td>\n",
       "      <td>Level 11, MegaBox, Enterprise Square 5, 38 Wan...</td>\n",
       "      <td>22.319533</td>\n",
       "      <td>114.208555</td>\n",
       "    </tr>\n",
       "    <tr>\n",
       "      <th>54</th>\n",
       "      <td>UA MegaBox</td>\n",
       "      <td>UA MegaBox</td>\n",
       "      <td>Level 11, MegaBox, Enterprise Square 5, 38 Wan...</td>\n",
       "      <td>22.319533</td>\n",
       "      <td>114.208555</td>\n",
       "    </tr>\n",
       "  </tbody>\n",
       "</table>\n",
       "</div>"
      ],
      "text/plain": [
       "                                                 Name  \\\n",
       "15                Cinema City VICTORIA (Causeway Bay)   \n",
       "16  Diamond Suite VIP House @ Cinema City VICTORIA...   \n",
       "0            Emperor Cinemas - Entertainment Building   \n",
       "3   The Coronet @ Emperor Cinemas - Entertainment ...   \n",
       "46                                  IMAX @ UA iSQUARE   \n",
       "49                          Phoenix Club @ UA iSQUARE   \n",
       "52                                         UA iSQUARE   \n",
       "45                                IMAX @ UA Cine Moko   \n",
       "51                                       UA Cine Moko   \n",
       "47                                  IMAX @ UA MegaBox   \n",
       "48                           Oscars Club @ UA MegaBox   \n",
       "54                                         UA MegaBox   \n",
       "\n",
       "                                              ChiName  \\\n",
       "15                         Cinema City VICTORIA (銅鑼灣)   \n",
       "16  Diamond Suite VIP House @ Cinema City VICTORIA...   \n",
       "0                                          英皇戲院 - 娛樂行   \n",
       "3                            The Coronet @ 英皇戲院 - 娛樂行   \n",
       "46                                  IMAX @ UA iSQUARE   \n",
       "49                                  鳯凰影院 @ UA iSQUARE   \n",
       "52                                         UA iSQUARE   \n",
       "45                                IMAX @ UA Cine Moko   \n",
       "51                                       UA Cine Moko   \n",
       "47                                  IMAX @ UA MegaBox   \n",
       "48                           Oscars Club @ UA MegaBox   \n",
       "54                                         UA MegaBox   \n",
       "\n",
       "                                              Address   Latitude   Longitude  \n",
       "15          2-8 Sugar Street, Causeway Bay, Hong Kong  22.279805  114.187126  \n",
       "16          2-8 Sugar Street, Causeway Bay, Hong Kong  22.279805  114.187126  \n",
       "0   3/F, Emperor Cinemas Entertainment Building, 3...  22.281453  114.154230  \n",
       "3   3/F, Emperor Cinemas Entertainment Building, 3...  22.281453  114.154230  \n",
       "46          7/F, iSQUARE, 63 Nathan Road, Tsimshatsui  22.296648  114.171974  \n",
       "49          7/F, iSQUARE, 63 Nathan Road, Tsimshatsui  22.296648  114.171974  \n",
       "52          7/F, iSQUARE, 63 Nathan Road, Tsimshatsui  22.296648  114.171974  \n",
       "45  L4, MOKO, 193 Prince Edward Road West, Mongkok...  22.323800  114.172000  \n",
       "51  L4, MOKO, 193 Prince Edward Road West, Mongkok...  22.323800  114.172000  \n",
       "47  Level 11, MegaBox, Enterprise Square 5, 38 Wan...  22.319533  114.208555  \n",
       "48  Level 11, MegaBox, Enterprise Square 5, 38 Wan...  22.319533  114.208555  \n",
       "54  Level 11, MegaBox, Enterprise Square 5, 38 Wan...  22.319533  114.208555  "
      ]
     },
     "execution_count": 27,
     "metadata": {},
     "output_type": "execute_result"
    }
   ],
   "source": [
    "duplicated = df_cinemas.duplicated('Address', keep=False)\n",
    "df_cinemas[duplicated].sort_values('Address')"
   ]
  },
  {
   "cell_type": "markdown",
   "metadata": {},
   "source": [
    "Some \"special house\" in cinema are separated as a new cinema in www.hkmovie6.com  \n",
    "These records are duplicated in my case and should be corrected."
   ]
  },
  {
   "cell_type": "code",
   "execution_count": 28,
   "metadata": {},
   "outputs": [],
   "source": [
    "# The Grand SC Starsuite -> The Grand Cinema\n",
    "df_cinemas.loc[29, 'Name'] = 'The Grand Cinema'\n",
    "\n",
    "# XXX @ UA MegaBox -> UA MegaBox\n",
    "df_cinemas.loc[44, 'Name'] = 'UA MegaBox'\n",
    "df_cinemas.loc[45, 'Name'] = 'UA MegaBox'\n",
    "\n",
    "# BEA IMAX @ UA Cine Moko -> UA Cine Moko\n",
    "df_cinemas.loc[42, 'Name'] = 'UA Cine Moko'\n",
    "\n",
    "# XXX @ UA iSQUARE -> iSQUARE\n",
    "df_cinemas.loc[43, 'Name'] = 'UA iSQUARE'\n",
    "df_cinemas.loc[46, 'Name'] = 'UA iSQUARE'\n",
    "\n",
    "# Emperor Cinemas - Entertainment Building\n",
    "df_cinemas.loc[1, 'Name'] = 'Emperor Cinemas - Entertainment Building'\n",
    "\n",
    "# Cinema City VICTORIA (Causeway Bay)\n",
    "df_cinemas.loc[6, 'Name'] = 'Cinema City VICTORIA (Causeway Bay)'"
   ]
  },
  {
   "cell_type": "code",
   "execution_count": 29,
   "metadata": {},
   "outputs": [
    {
     "data": {
      "text/html": [
       "<div>\n",
       "<style scoped>\n",
       "    .dataframe tbody tr th:only-of-type {\n",
       "        vertical-align: middle;\n",
       "    }\n",
       "\n",
       "    .dataframe tbody tr th {\n",
       "        vertical-align: top;\n",
       "    }\n",
       "\n",
       "    .dataframe thead th {\n",
       "        text-align: right;\n",
       "    }\n",
       "</style>\n",
       "<table border=\"1\" class=\"dataframe\">\n",
       "  <thead>\n",
       "    <tr style=\"text-align: right;\">\n",
       "      <th></th>\n",
       "      <th>Name</th>\n",
       "      <th>ChiName</th>\n",
       "      <th>Address</th>\n",
       "      <th>Latitude</th>\n",
       "      <th>Longitude</th>\n",
       "    </tr>\n",
       "  </thead>\n",
       "  <tbody>\n",
       "    <tr>\n",
       "      <th>0</th>\n",
       "      <td>Emperor Cinemas - Entertainment Building</td>\n",
       "      <td>英皇戲院 - 娛樂行</td>\n",
       "      <td>3/F, Emperor Cinemas Entertainment Building, 3...</td>\n",
       "      <td>22.281453</td>\n",
       "      <td>114.154230</td>\n",
       "    </tr>\n",
       "    <tr>\n",
       "      <th>3</th>\n",
       "      <td>The Coronet @ Emperor Cinemas - Entertainment ...</td>\n",
       "      <td>The Coronet @ 英皇戲院 - 娛樂行</td>\n",
       "      <td>3/F, Emperor Cinemas Entertainment Building, 3...</td>\n",
       "      <td>22.281453</td>\n",
       "      <td>114.154230</td>\n",
       "    </tr>\n",
       "    <tr>\n",
       "      <th>15</th>\n",
       "      <td>Cinema City VICTORIA (Causeway Bay)</td>\n",
       "      <td>Cinema City VICTORIA (銅鑼灣)</td>\n",
       "      <td>2-8 Sugar Street, Causeway Bay, Hong Kong</td>\n",
       "      <td>22.279805</td>\n",
       "      <td>114.187126</td>\n",
       "    </tr>\n",
       "    <tr>\n",
       "      <th>16</th>\n",
       "      <td>Diamond Suite VIP House @ Cinema City VICTORIA...</td>\n",
       "      <td>Diamond Suite VIP House @ Cinema City VICTORIA...</td>\n",
       "      <td>2-8 Sugar Street, Causeway Bay, Hong Kong</td>\n",
       "      <td>22.279805</td>\n",
       "      <td>114.187126</td>\n",
       "    </tr>\n",
       "    <tr>\n",
       "      <th>45</th>\n",
       "      <td>UA MegaBox</td>\n",
       "      <td>IMAX @ UA Cine Moko</td>\n",
       "      <td>L4, MOKO, 193 Prince Edward Road West, Mongkok...</td>\n",
       "      <td>22.323800</td>\n",
       "      <td>114.172000</td>\n",
       "    </tr>\n",
       "    <tr>\n",
       "      <th>46</th>\n",
       "      <td>UA iSQUARE</td>\n",
       "      <td>IMAX @ UA iSQUARE</td>\n",
       "      <td>7/F, iSQUARE, 63 Nathan Road, Tsimshatsui</td>\n",
       "      <td>22.296648</td>\n",
       "      <td>114.171974</td>\n",
       "    </tr>\n",
       "    <tr>\n",
       "      <th>47</th>\n",
       "      <td>IMAX @ UA MegaBox</td>\n",
       "      <td>IMAX @ UA MegaBox</td>\n",
       "      <td>Level 11, MegaBox, Enterprise Square 5, 38 Wan...</td>\n",
       "      <td>22.319533</td>\n",
       "      <td>114.208555</td>\n",
       "    </tr>\n",
       "    <tr>\n",
       "      <th>48</th>\n",
       "      <td>Oscars Club @ UA MegaBox</td>\n",
       "      <td>Oscars Club @ UA MegaBox</td>\n",
       "      <td>Level 11, MegaBox, Enterprise Square 5, 38 Wan...</td>\n",
       "      <td>22.319533</td>\n",
       "      <td>114.208555</td>\n",
       "    </tr>\n",
       "    <tr>\n",
       "      <th>49</th>\n",
       "      <td>Phoenix Club @ UA iSQUARE</td>\n",
       "      <td>鳯凰影院 @ UA iSQUARE</td>\n",
       "      <td>7/F, iSQUARE, 63 Nathan Road, Tsimshatsui</td>\n",
       "      <td>22.296648</td>\n",
       "      <td>114.171974</td>\n",
       "    </tr>\n",
       "    <tr>\n",
       "      <th>51</th>\n",
       "      <td>UA Cine Moko</td>\n",
       "      <td>UA Cine Moko</td>\n",
       "      <td>L4, MOKO, 193 Prince Edward Road West, Mongkok...</td>\n",
       "      <td>22.323800</td>\n",
       "      <td>114.172000</td>\n",
       "    </tr>\n",
       "    <tr>\n",
       "      <th>52</th>\n",
       "      <td>UA iSQUARE</td>\n",
       "      <td>UA iSQUARE</td>\n",
       "      <td>7/F, iSQUARE, 63 Nathan Road, Tsimshatsui</td>\n",
       "      <td>22.296648</td>\n",
       "      <td>114.171974</td>\n",
       "    </tr>\n",
       "    <tr>\n",
       "      <th>54</th>\n",
       "      <td>UA MegaBox</td>\n",
       "      <td>UA MegaBox</td>\n",
       "      <td>Level 11, MegaBox, Enterprise Square 5, 38 Wan...</td>\n",
       "      <td>22.319533</td>\n",
       "      <td>114.208555</td>\n",
       "    </tr>\n",
       "  </tbody>\n",
       "</table>\n",
       "</div>"
      ],
      "text/plain": [
       "                                                 Name  \\\n",
       "0            Emperor Cinemas - Entertainment Building   \n",
       "3   The Coronet @ Emperor Cinemas - Entertainment ...   \n",
       "15                Cinema City VICTORIA (Causeway Bay)   \n",
       "16  Diamond Suite VIP House @ Cinema City VICTORIA...   \n",
       "45                                         UA MegaBox   \n",
       "46                                         UA iSQUARE   \n",
       "47                                  IMAX @ UA MegaBox   \n",
       "48                           Oscars Club @ UA MegaBox   \n",
       "49                          Phoenix Club @ UA iSQUARE   \n",
       "51                                       UA Cine Moko   \n",
       "52                                         UA iSQUARE   \n",
       "54                                         UA MegaBox   \n",
       "\n",
       "                                              ChiName  \\\n",
       "0                                          英皇戲院 - 娛樂行   \n",
       "3                            The Coronet @ 英皇戲院 - 娛樂行   \n",
       "15                         Cinema City VICTORIA (銅鑼灣)   \n",
       "16  Diamond Suite VIP House @ Cinema City VICTORIA...   \n",
       "45                                IMAX @ UA Cine Moko   \n",
       "46                                  IMAX @ UA iSQUARE   \n",
       "47                                  IMAX @ UA MegaBox   \n",
       "48                           Oscars Club @ UA MegaBox   \n",
       "49                                  鳯凰影院 @ UA iSQUARE   \n",
       "51                                       UA Cine Moko   \n",
       "52                                         UA iSQUARE   \n",
       "54                                         UA MegaBox   \n",
       "\n",
       "                                              Address   Latitude   Longitude  \n",
       "0   3/F, Emperor Cinemas Entertainment Building, 3...  22.281453  114.154230  \n",
       "3   3/F, Emperor Cinemas Entertainment Building, 3...  22.281453  114.154230  \n",
       "15          2-8 Sugar Street, Causeway Bay, Hong Kong  22.279805  114.187126  \n",
       "16          2-8 Sugar Street, Causeway Bay, Hong Kong  22.279805  114.187126  \n",
       "45  L4, MOKO, 193 Prince Edward Road West, Mongkok...  22.323800  114.172000  \n",
       "46          7/F, iSQUARE, 63 Nathan Road, Tsimshatsui  22.296648  114.171974  \n",
       "47  Level 11, MegaBox, Enterprise Square 5, 38 Wan...  22.319533  114.208555  \n",
       "48  Level 11, MegaBox, Enterprise Square 5, 38 Wan...  22.319533  114.208555  \n",
       "49          7/F, iSQUARE, 63 Nathan Road, Tsimshatsui  22.296648  114.171974  \n",
       "51  L4, MOKO, 193 Prince Edward Road West, Mongkok...  22.323800  114.172000  \n",
       "52          7/F, iSQUARE, 63 Nathan Road, Tsimshatsui  22.296648  114.171974  \n",
       "54  Level 11, MegaBox, Enterprise Square 5, 38 Wan...  22.319533  114.208555  "
      ]
     },
     "execution_count": 29,
     "metadata": {},
     "output_type": "execute_result"
    }
   ],
   "source": [
    "df_cinemas[duplicated]"
   ]
  },
  {
   "cell_type": "code",
   "execution_count": 30,
   "metadata": {},
   "outputs": [],
   "source": [
    "df_cinemas.drop_duplicates('Address', inplace=True, keep='first')"
   ]
  },
  {
   "cell_type": "markdown",
   "metadata": {},
   "source": [
    "Drop the duplicated cinema records"
   ]
  },
  {
   "cell_type": "code",
   "execution_count": 31,
   "metadata": {},
   "outputs": [
    {
     "data": {
      "text/html": [
       "<div>\n",
       "<style scoped>\n",
       "    .dataframe tbody tr th:only-of-type {\n",
       "        vertical-align: middle;\n",
       "    }\n",
       "\n",
       "    .dataframe tbody tr th {\n",
       "        vertical-align: top;\n",
       "    }\n",
       "\n",
       "    .dataframe thead th {\n",
       "        text-align: right;\n",
       "    }\n",
       "</style>\n",
       "<table border=\"1\" class=\"dataframe\">\n",
       "  <thead>\n",
       "    <tr style=\"text-align: right;\">\n",
       "      <th></th>\n",
       "      <th>Name</th>\n",
       "      <th>ChiName</th>\n",
       "      <th>Address</th>\n",
       "      <th>Latitude</th>\n",
       "      <th>Longitude</th>\n",
       "    </tr>\n",
       "  </thead>\n",
       "  <tbody>\n",
       "    <tr>\n",
       "      <th>1</th>\n",
       "      <td>Emperor Cinemas - Entertainment Building</td>\n",
       "      <td>英皇戲院 - 馬鞍山新港城中心</td>\n",
       "      <td>L2, MOSTown, Sai Sha Road, Ma On Shan, N.T.</td>\n",
       "      <td>22.424120</td>\n",
       "      <td>114.230957</td>\n",
       "    </tr>\n",
       "    <tr>\n",
       "      <th>15</th>\n",
       "      <td>Cinema City VICTORIA (Causeway Bay)</td>\n",
       "      <td>Cinema City VICTORIA (銅鑼灣)</td>\n",
       "      <td>2-8 Sugar Street, Causeway Bay, Hong Kong</td>\n",
       "      <td>22.279805</td>\n",
       "      <td>114.187126</td>\n",
       "    </tr>\n",
       "    <tr>\n",
       "      <th>45</th>\n",
       "      <td>UA MegaBox</td>\n",
       "      <td>IMAX @ UA Cine Moko</td>\n",
       "      <td>L4, MOKO, 193 Prince Edward Road West, Mongkok...</td>\n",
       "      <td>22.323800</td>\n",
       "      <td>114.172000</td>\n",
       "    </tr>\n",
       "    <tr>\n",
       "      <th>46</th>\n",
       "      <td>UA iSQUARE</td>\n",
       "      <td>IMAX @ UA iSQUARE</td>\n",
       "      <td>7/F, iSQUARE, 63 Nathan Road, Tsimshatsui</td>\n",
       "      <td>22.296648</td>\n",
       "      <td>114.171974</td>\n",
       "    </tr>\n",
       "  </tbody>\n",
       "</table>\n",
       "</div>"
      ],
      "text/plain": [
       "                                        Name                     ChiName  \\\n",
       "1   Emperor Cinemas - Entertainment Building             英皇戲院 - 馬鞍山新港城中心   \n",
       "15       Cinema City VICTORIA (Causeway Bay)  Cinema City VICTORIA (銅鑼灣)   \n",
       "45                                UA MegaBox         IMAX @ UA Cine Moko   \n",
       "46                                UA iSQUARE           IMAX @ UA iSQUARE   \n",
       "\n",
       "                                              Address   Latitude   Longitude  \n",
       "1         L2, MOSTown, Sai Sha Road, Ma On Shan, N.T.  22.424120  114.230957  \n",
       "15          2-8 Sugar Street, Causeway Bay, Hong Kong  22.279805  114.187126  \n",
       "45  L4, MOKO, 193 Prince Edward Road West, Mongkok...  22.323800  114.172000  \n",
       "46          7/F, iSQUARE, 63 Nathan Road, Tsimshatsui  22.296648  114.171974  "
      ]
     },
     "execution_count": 31,
     "metadata": {},
     "output_type": "execute_result"
    }
   ],
   "source": [
    "df_cinemas[df_cinemas.duplicated('Name')]"
   ]
  },
  {
   "cell_type": "code",
   "execution_count": 32,
   "metadata": {},
   "outputs": [
    {
     "data": {
      "text/html": [
       "<div>\n",
       "<style scoped>\n",
       "    .dataframe tbody tr th:only-of-type {\n",
       "        vertical-align: middle;\n",
       "    }\n",
       "\n",
       "    .dataframe tbody tr th {\n",
       "        vertical-align: top;\n",
       "    }\n",
       "\n",
       "    .dataframe thead th {\n",
       "        text-align: right;\n",
       "    }\n",
       "</style>\n",
       "<table border=\"1\" class=\"dataframe\">\n",
       "  <thead>\n",
       "    <tr style=\"text-align: right;\">\n",
       "      <th></th>\n",
       "      <th>Name</th>\n",
       "      <th>ChiName</th>\n",
       "      <th>Address</th>\n",
       "      <th>Latitude</th>\n",
       "      <th>Longitude</th>\n",
       "    </tr>\n",
       "  </thead>\n",
       "  <tbody>\n",
       "    <tr>\n",
       "      <th>0</th>\n",
       "      <td>Emperor Cinemas - Entertainment Building</td>\n",
       "      <td>英皇戲院 - 娛樂行</td>\n",
       "      <td>3/F, Emperor Cinemas Entertainment Building, 3...</td>\n",
       "      <td>22.281453</td>\n",
       "      <td>114.154230</td>\n",
       "    </tr>\n",
       "    <tr>\n",
       "      <th>1</th>\n",
       "      <td>Emperor Cinemas - Entertainment Building</td>\n",
       "      <td>英皇戲院 - 馬鞍山新港城中心</td>\n",
       "      <td>L2, MOSTown, Sai Sha Road, Ma On Shan, N.T.</td>\n",
       "      <td>22.424120</td>\n",
       "      <td>114.230957</td>\n",
       "    </tr>\n",
       "    <tr>\n",
       "      <th>2</th>\n",
       "      <td>Emperor Cinemas - Tuen Mun</td>\n",
       "      <td>英皇戲院 - 屯門新都商場</td>\n",
       "      <td>3/F, New Town Commercial Arcade, 2 Tuen Lee St...</td>\n",
       "      <td>22.390776</td>\n",
       "      <td>113.975983</td>\n",
       "    </tr>\n",
       "    <tr>\n",
       "      <th>4</th>\n",
       "      <td>Festival Grand Cinema</td>\n",
       "      <td>Festival Grand Cinema</td>\n",
       "      <td>Level UG, Festival Walk, 80 Tat Chee Avenue, K...</td>\n",
       "      <td>22.337882</td>\n",
       "      <td>114.174325</td>\n",
       "    </tr>\n",
       "    <tr>\n",
       "      <th>5</th>\n",
       "      <td>Grand Kornhill Cinema</td>\n",
       "      <td>康怡戲院</td>\n",
       "      <td>4/F, Kornhill Plaza South, 2 Kornhill Road, Qu...</td>\n",
       "      <td>22.284218</td>\n",
       "      <td>114.216428</td>\n",
       "    </tr>\n",
       "  </tbody>\n",
       "</table>\n",
       "</div>"
      ],
      "text/plain": [
       "                                       Name                ChiName  \\\n",
       "0  Emperor Cinemas - Entertainment Building             英皇戲院 - 娛樂行   \n",
       "1  Emperor Cinemas - Entertainment Building        英皇戲院 - 馬鞍山新港城中心   \n",
       "2                Emperor Cinemas - Tuen Mun          英皇戲院 - 屯門新都商場   \n",
       "4                     Festival Grand Cinema  Festival Grand Cinema   \n",
       "5                     Grand Kornhill Cinema                   康怡戲院   \n",
       "\n",
       "                                             Address   Latitude   Longitude  \n",
       "0  3/F, Emperor Cinemas Entertainment Building, 3...  22.281453  114.154230  \n",
       "1        L2, MOSTown, Sai Sha Road, Ma On Shan, N.T.  22.424120  114.230957  \n",
       "2  3/F, New Town Commercial Arcade, 2 Tuen Lee St...  22.390776  113.975983  \n",
       "4  Level UG, Festival Walk, 80 Tat Chee Avenue, K...  22.337882  114.174325  \n",
       "5  4/F, Kornhill Plaza South, 2 Kornhill Road, Qu...  22.284218  114.216428  "
      ]
     },
     "execution_count": 32,
     "metadata": {},
     "output_type": "execute_result"
    }
   ],
   "source": [
    "df_cinemas.head()"
   ]
  },
  {
   "cell_type": "code",
   "execution_count": 33,
   "metadata": {},
   "outputs": [
    {
     "data": {
      "text/html": [
       "<div>\n",
       "<style scoped>\n",
       "    .dataframe tbody tr th:only-of-type {\n",
       "        vertical-align: middle;\n",
       "    }\n",
       "\n",
       "    .dataframe tbody tr th {\n",
       "        vertical-align: top;\n",
       "    }\n",
       "\n",
       "    .dataframe thead th {\n",
       "        text-align: right;\n",
       "    }\n",
       "</style>\n",
       "<table border=\"1\" class=\"dataframe\">\n",
       "  <thead>\n",
       "    <tr style=\"text-align: right;\">\n",
       "      <th></th>\n",
       "      <th>ChiName</th>\n",
       "    </tr>\n",
       "  </thead>\n",
       "  <tbody>\n",
       "    <tr>\n",
       "      <th>0</th>\n",
       "      <td>英皇戲院 - 娛樂行</td>\n",
       "    </tr>\n",
       "    <tr>\n",
       "      <th>1</th>\n",
       "      <td>英皇戲院 - 馬鞍山新港城中心</td>\n",
       "    </tr>\n",
       "    <tr>\n",
       "      <th>2</th>\n",
       "      <td>英皇戲院 - 屯門新都商場</td>\n",
       "    </tr>\n",
       "    <tr>\n",
       "      <th>4</th>\n",
       "      <td>Festival Grand Cinema</td>\n",
       "    </tr>\n",
       "    <tr>\n",
       "      <th>5</th>\n",
       "      <td>康怡戲院</td>\n",
       "    </tr>\n",
       "    <tr>\n",
       "      <th>6</th>\n",
       "      <td>皇室戲院</td>\n",
       "    </tr>\n",
       "    <tr>\n",
       "      <th>7</th>\n",
       "      <td>MCL 長沙灣戲院</td>\n",
       "    </tr>\n",
       "    <tr>\n",
       "      <th>8</th>\n",
       "      <td>MCL 粉嶺戲院</td>\n",
       "    </tr>\n",
       "    <tr>\n",
       "      <th>9</th>\n",
       "      <td>MCL 新都城戲院</td>\n",
       "    </tr>\n",
       "    <tr>\n",
       "      <th>10</th>\n",
       "      <td>MCL 海怡戲院</td>\n",
       "    </tr>\n",
       "    <tr>\n",
       "      <th>11</th>\n",
       "      <td>MCL 德福戲院</td>\n",
       "    </tr>\n",
       "    <tr>\n",
       "      <th>12</th>\n",
       "      <td>MOVIE TOWN - 新城市廣場</td>\n",
       "    </tr>\n",
       "    <tr>\n",
       "      <th>13</th>\n",
       "      <td>STAR Cinema</td>\n",
       "    </tr>\n",
       "    <tr>\n",
       "      <th>14</th>\n",
       "      <td>百老匯戲院 - 數碼港</td>\n",
       "    </tr>\n",
       "    <tr>\n",
       "      <th>15</th>\n",
       "      <td>Cinema City VICTORIA (銅鑼灣)</td>\n",
       "    </tr>\n",
       "    <tr>\n",
       "      <th>17</th>\n",
       "      <td>PALACE ifc</td>\n",
       "    </tr>\n",
       "    <tr>\n",
       "      <th>18</th>\n",
       "      <td>百老匯電影中心</td>\n",
       "    </tr>\n",
       "    <tr>\n",
       "      <th>19</th>\n",
       "      <td>百老匯戲院 - 荷里活</td>\n",
       "    </tr>\n",
       "    <tr>\n",
       "      <th>20</th>\n",
       "      <td>百老匯戲院 - 旺角</td>\n",
       "    </tr>\n",
       "    <tr>\n",
       "      <th>21</th>\n",
       "      <td>百老匯戲院 - The ONE</td>\n",
       "    </tr>\n",
       "    <tr>\n",
       "      <th>22</th>\n",
       "      <td>MOViE MOViE Cityplaza</td>\n",
       "    </tr>\n",
       "    <tr>\n",
       "      <th>23</th>\n",
       "      <td>PALACE apm</td>\n",
       "    </tr>\n",
       "    <tr>\n",
       "      <th>24</th>\n",
       "      <td>PREMIERE ELEMENTS</td>\n",
       "    </tr>\n",
       "    <tr>\n",
       "      <th>25</th>\n",
       "      <td>百老匯戲院 - 嘉湖銀座</td>\n",
       "    </tr>\n",
       "    <tr>\n",
       "      <th>26</th>\n",
       "      <td>百老匯戲院 - 葵芳</td>\n",
       "    </tr>\n",
       "    <tr>\n",
       "      <th>27</th>\n",
       "      <td>百老匯戲院 - 荃灣</td>\n",
       "    </tr>\n",
       "    <tr>\n",
       "      <th>28</th>\n",
       "      <td>MY CINEMA YOHO MALL</td>\n",
       "    </tr>\n",
       "    <tr>\n",
       "      <th>29</th>\n",
       "      <td>AMC Pacific Place</td>\n",
       "    </tr>\n",
       "    <tr>\n",
       "      <th>30</th>\n",
       "      <td>CGV Cinemas D2 Place</td>\n",
       "    </tr>\n",
       "    <tr>\n",
       "      <th>31</th>\n",
       "      <td>the sky (奧海城)</td>\n",
       "    </tr>\n",
       "    <tr>\n",
       "      <th>...</th>\n",
       "      <td>...</td>\n",
       "    </tr>\n",
       "    <tr>\n",
       "      <th>36</th>\n",
       "      <td>StagE</td>\n",
       "    </tr>\n",
       "    <tr>\n",
       "      <th>37</th>\n",
       "      <td>嘉禾啟德</td>\n",
       "    </tr>\n",
       "    <tr>\n",
       "      <th>38</th>\n",
       "      <td>海運戲院</td>\n",
       "    </tr>\n",
       "    <tr>\n",
       "      <th>39</th>\n",
       "      <td>星影匯</td>\n",
       "    </tr>\n",
       "    <tr>\n",
       "      <th>40</th>\n",
       "      <td>CANDY PARK BY CINEMA CITY (愉景新城)</td>\n",
       "    </tr>\n",
       "    <tr>\n",
       "      <th>41</th>\n",
       "      <td>Cinema City 柴灣</td>\n",
       "    </tr>\n",
       "    <tr>\n",
       "      <th>42</th>\n",
       "      <td>Cinema City JP</td>\n",
       "    </tr>\n",
       "    <tr>\n",
       "      <th>43</th>\n",
       "      <td>Cinema City 朗豪坊</td>\n",
       "    </tr>\n",
       "    <tr>\n",
       "      <th>44</th>\n",
       "      <td>UA Cine Times</td>\n",
       "    </tr>\n",
       "    <tr>\n",
       "      <th>45</th>\n",
       "      <td>IMAX @ UA Cine Moko</td>\n",
       "    </tr>\n",
       "    <tr>\n",
       "      <th>46</th>\n",
       "      <td>IMAX @ UA iSQUARE</td>\n",
       "    </tr>\n",
       "    <tr>\n",
       "      <th>47</th>\n",
       "      <td>IMAX @ UA MegaBox</td>\n",
       "    </tr>\n",
       "    <tr>\n",
       "      <th>50</th>\n",
       "      <td>UA 淘大</td>\n",
       "    </tr>\n",
       "    <tr>\n",
       "      <th>53</th>\n",
       "      <td>UA 青衣城</td>\n",
       "    </tr>\n",
       "    <tr>\n",
       "      <th>55</th>\n",
       "      <td>機場UA IMAX 影院</td>\n",
       "    </tr>\n",
       "    <tr>\n",
       "      <th>56</th>\n",
       "      <td>總統</td>\n",
       "    </tr>\n",
       "    <tr>\n",
       "      <th>57</th>\n",
       "      <td>豪華</td>\n",
       "    </tr>\n",
       "    <tr>\n",
       "      <th>58</th>\n",
       "      <td>新寶</td>\n",
       "    </tr>\n",
       "    <tr>\n",
       "      <th>59</th>\n",
       "      <td>香港科學館演講廳</td>\n",
       "    </tr>\n",
       "    <tr>\n",
       "      <th>60</th>\n",
       "      <td>凱都</td>\n",
       "    </tr>\n",
       "    <tr>\n",
       "      <th>61</th>\n",
       "      <td>巴黎倫敦紐約米蘭戲院</td>\n",
       "    </tr>\n",
       "    <tr>\n",
       "      <th>62</th>\n",
       "      <td>元朗戲院</td>\n",
       "    </tr>\n",
       "    <tr>\n",
       "      <th>63</th>\n",
       "      <td>香港兆基創意書院放映室</td>\n",
       "    </tr>\n",
       "    <tr>\n",
       "      <th>64</th>\n",
       "      <td>L Cinema Shau Kei Wan</td>\n",
       "    </tr>\n",
       "    <tr>\n",
       "      <th>65</th>\n",
       "      <td>饒館新一天院線</td>\n",
       "    </tr>\n",
       "    <tr>\n",
       "      <th>66</th>\n",
       "      <td>香港藝術中心古天樂電影院</td>\n",
       "    </tr>\n",
       "    <tr>\n",
       "      <th>67</th>\n",
       "      <td>寶石戲院</td>\n",
       "    </tr>\n",
       "    <tr>\n",
       "      <th>68</th>\n",
       "      <td>新光戲院大劇場</td>\n",
       "    </tr>\n",
       "    <tr>\n",
       "      <th>69</th>\n",
       "      <td>Super 3 影院</td>\n",
       "    </tr>\n",
       "    <tr>\n",
       "      <th>70</th>\n",
       "      <td>大館</td>\n",
       "    </tr>\n",
       "  </tbody>\n",
       "</table>\n",
       "<p>64 rows × 1 columns</p>\n",
       "</div>"
      ],
      "text/plain": [
       "                             ChiName\n",
       "0                         英皇戲院 - 娛樂行\n",
       "1                    英皇戲院 - 馬鞍山新港城中心\n",
       "2                      英皇戲院 - 屯門新都商場\n",
       "4              Festival Grand Cinema\n",
       "5                               康怡戲院\n",
       "6                               皇室戲院\n",
       "7                          MCL 長沙灣戲院\n",
       "8                           MCL 粉嶺戲院\n",
       "9                          MCL 新都城戲院\n",
       "10                          MCL 海怡戲院\n",
       "11                          MCL 德福戲院\n",
       "12                MOVIE TOWN - 新城市廣場\n",
       "13                       STAR Cinema\n",
       "14                       百老匯戲院 - 數碼港\n",
       "15        Cinema City VICTORIA (銅鑼灣)\n",
       "17                        PALACE ifc\n",
       "18                           百老匯電影中心\n",
       "19                       百老匯戲院 - 荷里活\n",
       "20                        百老匯戲院 - 旺角\n",
       "21                   百老匯戲院 - The ONE\n",
       "22             MOViE MOViE Cityplaza\n",
       "23                        PALACE apm\n",
       "24                 PREMIERE ELEMENTS\n",
       "25                      百老匯戲院 - 嘉湖銀座\n",
       "26                        百老匯戲院 - 葵芳\n",
       "27                        百老匯戲院 - 荃灣\n",
       "28               MY CINEMA YOHO MALL\n",
       "29                 AMC Pacific Place\n",
       "30              CGV Cinemas D2 Place\n",
       "31                     the sky (奧海城)\n",
       "..                               ...\n",
       "36                             StagE\n",
       "37                              嘉禾啟德\n",
       "38                              海運戲院\n",
       "39                               星影匯\n",
       "40  CANDY PARK BY CINEMA CITY (愉景新城)\n",
       "41                    Cinema City 柴灣\n",
       "42                    Cinema City JP\n",
       "43                   Cinema City 朗豪坊\n",
       "44                     UA Cine Times\n",
       "45               IMAX @ UA Cine Moko\n",
       "46                 IMAX @ UA iSQUARE\n",
       "47                 IMAX @ UA MegaBox\n",
       "50                             UA 淘大\n",
       "53                            UA 青衣城\n",
       "55                      機場UA IMAX 影院\n",
       "56                                總統\n",
       "57                                豪華\n",
       "58                                新寶\n",
       "59                          香港科學館演講廳\n",
       "60                                凱都\n",
       "61                        巴黎倫敦紐約米蘭戲院\n",
       "62                              元朗戲院\n",
       "63                       香港兆基創意書院放映室\n",
       "64             L Cinema Shau Kei Wan\n",
       "65                           饒館新一天院線\n",
       "66                      香港藝術中心古天樂電影院\n",
       "67                              寶石戲院\n",
       "68                           新光戲院大劇場\n",
       "69                        Super 3 影院\n",
       "70                                大館\n",
       "\n",
       "[64 rows x 1 columns]"
      ]
     },
     "execution_count": 33,
     "metadata": {},
     "output_type": "execute_result"
    }
   ],
   "source": [
    "df_cinemas['ChiName'].to_frame()"
   ]
  },
  {
   "cell_type": "markdown",
   "metadata": {},
   "source": [
    "Cinema '新光戲院大劇場' and '大館' should be considered as cinema in Hong Kong. These records must be rmeoved"
   ]
  },
  {
   "cell_type": "code",
   "execution_count": 34,
   "metadata": {},
   "outputs": [
    {
     "data": {
      "text/html": [
       "<div>\n",
       "<style scoped>\n",
       "    .dataframe tbody tr th:only-of-type {\n",
       "        vertical-align: middle;\n",
       "    }\n",
       "\n",
       "    .dataframe tbody tr th {\n",
       "        vertical-align: top;\n",
       "    }\n",
       "\n",
       "    .dataframe thead th {\n",
       "        text-align: right;\n",
       "    }\n",
       "</style>\n",
       "<table border=\"1\" class=\"dataframe\">\n",
       "  <thead>\n",
       "    <tr style=\"text-align: right;\">\n",
       "      <th></th>\n",
       "      <th>Name</th>\n",
       "      <th>Address</th>\n",
       "      <th>Latitude</th>\n",
       "      <th>Longitude</th>\n",
       "    </tr>\n",
       "  </thead>\n",
       "  <tbody>\n",
       "    <tr>\n",
       "      <th>0</th>\n",
       "      <td>Emperor Cinemas - Entertainment Building</td>\n",
       "      <td>3/F, Emperor Cinemas Entertainment Building, 3...</td>\n",
       "      <td>22.281453</td>\n",
       "      <td>114.154230</td>\n",
       "    </tr>\n",
       "    <tr>\n",
       "      <th>1</th>\n",
       "      <td>Emperor Cinemas - Entertainment Building</td>\n",
       "      <td>L2, MOSTown, Sai Sha Road, Ma On Shan, N.T.</td>\n",
       "      <td>22.424120</td>\n",
       "      <td>114.230957</td>\n",
       "    </tr>\n",
       "    <tr>\n",
       "      <th>2</th>\n",
       "      <td>Emperor Cinemas - Tuen Mun</td>\n",
       "      <td>3/F, New Town Commercial Arcade, 2 Tuen Lee St...</td>\n",
       "      <td>22.390776</td>\n",
       "      <td>113.975983</td>\n",
       "    </tr>\n",
       "    <tr>\n",
       "      <th>4</th>\n",
       "      <td>Festival Grand Cinema</td>\n",
       "      <td>Level UG, Festival Walk, 80 Tat Chee Avenue, K...</td>\n",
       "      <td>22.337882</td>\n",
       "      <td>114.174325</td>\n",
       "    </tr>\n",
       "    <tr>\n",
       "      <th>5</th>\n",
       "      <td>Grand Kornhill Cinema</td>\n",
       "      <td>4/F, Kornhill Plaza South, 2 Kornhill Road, Qu...</td>\n",
       "      <td>22.284218</td>\n",
       "      <td>114.216428</td>\n",
       "    </tr>\n",
       "  </tbody>\n",
       "</table>\n",
       "</div>"
      ],
      "text/plain": [
       "                                       Name  \\\n",
       "0  Emperor Cinemas - Entertainment Building   \n",
       "1  Emperor Cinemas - Entertainment Building   \n",
       "2                Emperor Cinemas - Tuen Mun   \n",
       "4                     Festival Grand Cinema   \n",
       "5                     Grand Kornhill Cinema   \n",
       "\n",
       "                                             Address   Latitude   Longitude  \n",
       "0  3/F, Emperor Cinemas Entertainment Building, 3...  22.281453  114.154230  \n",
       "1        L2, MOSTown, Sai Sha Road, Ma On Shan, N.T.  22.424120  114.230957  \n",
       "2  3/F, New Town Commercial Arcade, 2 Tuen Lee St...  22.390776  113.975983  \n",
       "4  Level UG, Festival Walk, 80 Tat Chee Avenue, K...  22.337882  114.174325  \n",
       "5  4/F, Kornhill Plaza South, 2 Kornhill Road, Qu...  22.284218  114.216428  "
      ]
     },
     "execution_count": 34,
     "metadata": {},
     "output_type": "execute_result"
    }
   ],
   "source": [
    "df_cinemas.drop(index=[65,67], inplace=True)\n",
    "df_cinemas.drop(axis=1, columns=['ChiName'], inplace=True)\n",
    "df_cinemas.head()"
   ]
  },
  {
   "cell_type": "code",
   "execution_count": 35,
   "metadata": {},
   "outputs": [
    {
     "data": {
      "text/plain": [
       "(62, 4)"
      ]
     },
     "execution_count": 35,
     "metadata": {},
     "output_type": "execute_result"
    }
   ],
   "source": [
    "df_cinemas.shape"
   ]
  },
  {
   "cell_type": "code",
   "execution_count": 36,
   "metadata": {},
   "outputs": [
    {
     "ename": "NameError",
     "evalue": "name 'fs' is not defined",
     "output_type": "error",
     "traceback": [
      "\u001b[0;31m---------------------------------------------------------------------------\u001b[0m",
      "\u001b[0;31mNameError\u001b[0m                                 Traceback (most recent call last)",
      "\u001b[0;32m<ipython-input-36-c31d873338b5>\u001b[0m in \u001b[0;36m<module>\u001b[0;34m\u001b[0m\n\u001b[1;32m     12\u001b[0m     \u001b[0;32mfor\u001b[0m \u001b[0;34m(\u001b[0m\u001b[0mname\u001b[0m\u001b[0;34m,\u001b[0m \u001b[0maddress\u001b[0m\u001b[0;34m,\u001b[0m \u001b[0mlatitude\u001b[0m\u001b[0;34m,\u001b[0m \u001b[0mlongitude\u001b[0m\u001b[0;34m)\u001b[0m \u001b[0;32min\u001b[0m \u001b[0mdf_cinemas\u001b[0m\u001b[0;34m.\u001b[0m\u001b[0mitertuples\u001b[0m\u001b[0;34m(\u001b[0m\u001b[0mindex\u001b[0m\u001b[0;34m=\u001b[0m\u001b[0;32mFalse\u001b[0m\u001b[0;34m)\u001b[0m\u001b[0;34m:\u001b[0m\u001b[0;34m\u001b[0m\u001b[0;34m\u001b[0m\u001b[0m\n\u001b[1;32m     13\u001b[0m         \u001b[0;32mfor\u001b[0m \u001b[0mcat\u001b[0m\u001b[0;34m,\u001b[0m \u001b[0mcat_id\u001b[0m \u001b[0;32min\u001b[0m \u001b[0mfs_categories\u001b[0m\u001b[0;34m.\u001b[0m\u001b[0mitems\u001b[0m\u001b[0;34m(\u001b[0m\u001b[0;34m)\u001b[0m\u001b[0;34m:\u001b[0m\u001b[0;34m\u001b[0m\u001b[0;34m\u001b[0m\u001b[0m\n\u001b[0;32m---> 14\u001b[0;31m             \u001b[0mdf\u001b[0m \u001b[0;34m=\u001b[0m \u001b[0mvenues_nearby\u001b[0m\u001b[0;34m(\u001b[0m\u001b[0mlatitude\u001b[0m\u001b[0;34m,\u001b[0m \u001b[0mlongitude\u001b[0m\u001b[0;34m,\u001b[0m \u001b[0mcat\u001b[0m\u001b[0;34m,\u001b[0m \u001b[0mverbose\u001b[0m\u001b[0;34m=\u001b[0m\u001b[0;32mFalse\u001b[0m\u001b[0;34m)\u001b[0m\u001b[0;34m\u001b[0m\u001b[0;34m\u001b[0m\u001b[0m\n\u001b[0m\u001b[1;32m     15\u001b[0m             \u001b[0mdf\u001b[0m\u001b[0;34m[\u001b[0m\u001b[0;34m'Cinema Name'\u001b[0m\u001b[0;34m]\u001b[0m \u001b[0;34m=\u001b[0m \u001b[0mname\u001b[0m\u001b[0;34m\u001b[0m\u001b[0;34m\u001b[0m\u001b[0m\n\u001b[1;32m     16\u001b[0m             \u001b[0mdf\u001b[0m\u001b[0;34m[\u001b[0m\u001b[0;34m'Category'\u001b[0m\u001b[0;34m]\u001b[0m \u001b[0;34m=\u001b[0m \u001b[0mcat\u001b[0m\u001b[0;34m\u001b[0m\u001b[0;34m\u001b[0m\u001b[0m\n",
      "\u001b[0;32m<ipython-input-20-5c59482585e5>\u001b[0m in \u001b[0;36mvenues_nearby\u001b[0;34m(latitude, longitude, category, verbose)\u001b[0m\n\u001b[1;32m      1\u001b[0m \u001b[0;32mdef\u001b[0m \u001b[0mvenues_nearby\u001b[0m\u001b[0;34m(\u001b[0m\u001b[0mlatitude\u001b[0m\u001b[0;34m,\u001b[0m \u001b[0mlongitude\u001b[0m\u001b[0;34m,\u001b[0m \u001b[0mcategory\u001b[0m\u001b[0;34m,\u001b[0m \u001b[0mverbose\u001b[0m\u001b[0;34m=\u001b[0m\u001b[0;32mTrue\u001b[0m\u001b[0;34m)\u001b[0m\u001b[0;34m:\u001b[0m\u001b[0;34m\u001b[0m\u001b[0;34m\u001b[0m\u001b[0m\n\u001b[0;32m----> 2\u001b[0;31m     results = fs.venues.search(\n\u001b[0m\u001b[1;32m      3\u001b[0m         params = {\n\u001b[1;32m      4\u001b[0m             \u001b[0;34m'query'\u001b[0m\u001b[0;34m:\u001b[0m \u001b[0mcategory\u001b[0m\u001b[0;34m,\u001b[0m\u001b[0;34m\u001b[0m\u001b[0;34m\u001b[0m\u001b[0m\n\u001b[1;32m      5\u001b[0m             \u001b[0;34m'll'\u001b[0m\u001b[0;34m:\u001b[0m \u001b[0;34m'{},{}'\u001b[0m\u001b[0;34m.\u001b[0m\u001b[0mformat\u001b[0m\u001b[0;34m(\u001b[0m\u001b[0mlatitude\u001b[0m\u001b[0;34m,\u001b[0m \u001b[0mlongitude\u001b[0m\u001b[0;34m)\u001b[0m\u001b[0;34m,\u001b[0m\u001b[0;34m\u001b[0m\u001b[0;34m\u001b[0m\u001b[0m\n",
      "\u001b[0;31mNameError\u001b[0m: name 'fs' is not defined"
     ]
    }
   ],
   "source": [
    "from pathlib import Path\n",
    "\n",
    "venues_csv = Path('./cinemas_venues.csv')\n",
    "df_venues = None\n",
    "\n",
    "# check the venues data is explored and downloaded \n",
    "if( venues_csv.exists() ):\n",
    "    df_venues = pd.read_csv('./cinemas_venues.csv')\n",
    "else:    \n",
    "    # construct a dataframe to store data\n",
    "    df_venues = pd.DataFrame(columns=['Cinema Name', 'Category', 'Name', 'Latitude', 'Longitude', 'Tips', 'Users', 'Visits'])\n",
    "    for (name, address, latitude, longitude) in df_cinemas.itertuples(index=False):\n",
    "        for cat, cat_id in fs_categories.items():\n",
    "            df = venues_nearby(latitude, longitude, cat, verbose=False)\n",
    "            df['Cinema Name'] = name\n",
    "            df['Category'] = cat\n",
    "            df_venues = df_venues.append(df, sort=True)\n",
    "    df_venues.to_csv('cinemas_venues.csv', index=False)"
   ]
  },
  {
   "cell_type": "code",
   "execution_count": 37,
   "metadata": {},
   "outputs": [
    {
     "name": "stdout",
     "output_type": "stream",
     "text": [
      "Total 0 of venues are found\n"
     ]
    }
   ],
   "source": [
    "print('Total {} of venues are found'.format(len(df_venues)))"
   ]
  },
  {
   "cell_type": "code",
   "execution_count": null,
   "metadata": {},
   "outputs": [],
   "source": []
  }
 ],
 "metadata": {
  "kernelspec": {
   "display_name": "Python 3.6",
   "language": "python",
   "name": "python3"
  },
  "language_info": {
   "codemirror_mode": {
    "name": "ipython",
    "version": 3
   },
   "file_extension": ".py",
   "mimetype": "text/x-python",
   "name": "python",
   "nbconvert_exporter": "python",
   "pygments_lexer": "ipython3",
   "version": "3.6.8"
  }
 },
 "nbformat": 4,
 "nbformat_minor": 1
}
